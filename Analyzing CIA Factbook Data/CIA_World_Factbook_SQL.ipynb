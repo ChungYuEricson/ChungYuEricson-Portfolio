{
 "cells": [
  {
   "cell_type": "markdown",
   "id": "6983edf9",
   "metadata": {},
   "source": [
    "<h1 style=\"font-size:220%\"> Analyzing CIA Factbook Data Using SQL</h1>\n",
    "\n",
    "***"
   ]
  },
  {
   "cell_type": "markdown",
   "id": "3ff2fcdd-cdfc-4316-bbc5-77ab53fe610e",
   "metadata": {},
   "source": [
    "This project aims to study the compendium of statistics about all the countries by working with this [dataset](factbook.db) from the CIA World Factbook.The World Factbook provides basic intelligence on the history, people, government, economy, energy, geography, environment, communications, transportation, military, terrorism, and transnational issues for 266 world entities[$^{[1]}$](https://www.cia.gov/the-world-factbook/). The scope of this project focuses on the demographic indicators like population, mortality, and fertility."
   ]
  },
  {
   "cell_type": "markdown",
   "id": "0c2d2b60",
   "metadata": {},
   "source": [
    "<h1 style=\"font-size:160%\"> TABLE OF CONTENTS </h1>\n",
    "\n",
    "<a id=\"0\"></a>\n",
    "\n",
    ">- [Connect to Database File](#1)\n",
    ">- [Summary of Database File](#2)\n",
    ">- [Summary of Statistics](#3)\n",
    ">- [Population](#4)\n",
    ">    - [A) Top 5 Countries in Population](#5)\n",
    ">    - [B) Least 5 Dependencies in Total Population](#6)\n",
    ">- [Population Density](#7)\n",
    ">    - [A) Countries with the Highest Population Density](#8)\n",
    ">    - [B) Countries with the Lowest Population Density](#9)\n",
    ">- [Mortality and Fertility](#10)\n",
    ">    - [A) Countries with the Highest Birth Rates](#11)\n",
    ">    - [B) Countries with the Lowest Birth Rates](#12)\n",
    ">    - [C) Countries with the Highest Death Rates](#13)\n",
    ">    - [D) Countries with the Lowest Death Rates](#14)\n",
    ">- [Population Decline by Country](#15)\n",
    ">- [Conclusion](#16)\n",
    ">- [References](#17)"
   ]
  },
  {
   "cell_type": "markdown",
   "id": "08a15cec-245d-4617-861b-97e9cd4b595b",
   "metadata": {},
   "source": [
    "<a id=\"1\"></a>\n",
    "<h1 style=\"font-size:160%\"> Connect to Database File</h1>\n",
    "\n",
    "***"
   ]
  },
  {
   "cell_type": "code",
   "execution_count": 1,
   "id": "1c38712c-0ec5-4b3d-b992-98cf3e3270fd",
   "metadata": {
    "tags": []
   },
   "outputs": [],
   "source": [
    "%%capture\n",
    "%load_ext sql\n",
    "%sql sqlite:///factbook.db"
   ]
  },
  {
   "cell_type": "markdown",
   "id": "740cae00",
   "metadata": {},
   "source": [
    "<a id=\"2\"></a>\n",
    "<h1 style=\"font-size:160%\"> Summary of Database File</h1> \n",
    "\n",
    "***"
   ]
  },
  {
   "cell_type": "markdown",
   "id": "3952a7b2",
   "metadata": {},
   "source": [
    "#### Return information on the tables"
   ]
  },
  {
   "cell_type": "code",
   "execution_count": 2,
   "id": "de7e904f",
   "metadata": {},
   "outputs": [
    {
     "name": "stdout",
     "output_type": "stream",
     "text": [
      " * sqlite:///factbook.db\n",
      "Done.\n"
     ]
    },
    {
     "data": {
      "text/html": [
       "<table>\n",
       "    <tr>\n",
       "        <th>type</th>\n",
       "        <th>name</th>\n",
       "        <th>tbl_name</th>\n",
       "        <th>rootpage</th>\n",
       "        <th>sql</th>\n",
       "    </tr>\n",
       "    <tr>\n",
       "        <td>table</td>\n",
       "        <td>sqlite_sequence</td>\n",
       "        <td>sqlite_sequence</td>\n",
       "        <td>3</td>\n",
       "        <td>CREATE TABLE sqlite_sequence(name,seq)</td>\n",
       "    </tr>\n",
       "    <tr>\n",
       "        <td>table</td>\n",
       "        <td>facts</td>\n",
       "        <td>facts</td>\n",
       "        <td>47</td>\n",
       "        <td>CREATE TABLE &quot;facts&quot; (&quot;id&quot; INTEGER PRIMARY KEY AUTOINCREMENT NOT NULL, &quot;code&quot; varchar(255) NOT NULL, &quot;name&quot; varchar(255) NOT NULL, &quot;area&quot; integer, &quot;area_land&quot; integer, &quot;area_water&quot; integer, &quot;population&quot; integer, &quot;population_growth&quot; float, &quot;birth_rate&quot; float, &quot;death_rate&quot; float, &quot;migration_rate&quot; float)</td>\n",
       "    </tr>\n",
       "</table>"
      ],
      "text/plain": [
       "[('table', 'sqlite_sequence', 'sqlite_sequence', 3, 'CREATE TABLE sqlite_sequence(name,seq)'),\n",
       " ('table', 'facts', 'facts', 47, 'CREATE TABLE \"facts\" (\"id\" INTEGER PRIMARY KEY AUTOINCREMENT NOT NULL, \"code\" varchar(255) NOT NULL, \"name\" varchar(255) NOT NULL, \"area\" integer, \"a ... (4 characters truncated) ... land\" integer, \"area_water\" integer, \"population\" integer, \"population_growth\" float, \"birth_rate\" float, \"death_rate\" float, \"migration_rate\" float)')]"
      ]
     },
     "execution_count": 2,
     "metadata": {},
     "output_type": "execute_result"
    }
   ],
   "source": [
    "%%sql\n",
    "SELECT *\n",
    "    FROM sqlite_master\n",
    "    WHERE type='table';"
   ]
  },
  {
   "cell_type": "code",
   "execution_count": 3,
   "id": "0ba9e698",
   "metadata": {},
   "outputs": [
    {
     "name": "stdout",
     "output_type": "stream",
     "text": [
      " * sqlite:///factbook.db\n",
      "Done.\n"
     ]
    },
    {
     "data": {
      "text/html": [
       "<table>\n",
       "    <tr>\n",
       "        <th>name</th>\n",
       "        <th>seq</th>\n",
       "    </tr>\n",
       "    <tr>\n",
       "        <td>facts</td>\n",
       "        <td>261</td>\n",
       "    </tr>\n",
       "</table>"
      ],
      "text/plain": [
       "[('facts', 261)]"
      ]
     },
     "execution_count": 3,
     "metadata": {},
     "output_type": "execute_result"
    }
   ],
   "source": [
    "%%sql\n",
    "SELECT *\n",
    "    FROM sqlite_sequence\n",
    "    LIMIT 5;"
   ]
  },
  {
   "cell_type": "markdown",
   "id": "c53862e6",
   "metadata": {},
   "source": [
    "<h1 style=\"font-size:80%\"> Table 1: sqlite_sequence </h1>"
   ]
  },
  {
   "cell_type": "code",
   "execution_count": 4,
   "id": "35775530-43cc-4d9e-a2c8-cfebbc9a5ebb",
   "metadata": {},
   "outputs": [
    {
     "name": "stdout",
     "output_type": "stream",
     "text": [
      " * sqlite:///factbook.db\n",
      "Done.\n"
     ]
    },
    {
     "data": {
      "text/html": [
       "<table>\n",
       "    <tr>\n",
       "        <th>id</th>\n",
       "        <th>code</th>\n",
       "        <th>name</th>\n",
       "        <th>area</th>\n",
       "        <th>area_land</th>\n",
       "        <th>area_water</th>\n",
       "        <th>population</th>\n",
       "        <th>population_growth</th>\n",
       "        <th>birth_rate</th>\n",
       "        <th>death_rate</th>\n",
       "        <th>migration_rate</th>\n",
       "    </tr>\n",
       "    <tr>\n",
       "        <td>1</td>\n",
       "        <td>af</td>\n",
       "        <td>Afghanistan</td>\n",
       "        <td>652230</td>\n",
       "        <td>652230</td>\n",
       "        <td>0</td>\n",
       "        <td>32564342</td>\n",
       "        <td>2.32</td>\n",
       "        <td>38.57</td>\n",
       "        <td>13.89</td>\n",
       "        <td>1.51</td>\n",
       "    </tr>\n",
       "    <tr>\n",
       "        <td>2</td>\n",
       "        <td>al</td>\n",
       "        <td>Albania</td>\n",
       "        <td>28748</td>\n",
       "        <td>27398</td>\n",
       "        <td>1350</td>\n",
       "        <td>3029278</td>\n",
       "        <td>0.3</td>\n",
       "        <td>12.92</td>\n",
       "        <td>6.58</td>\n",
       "        <td>3.3</td>\n",
       "    </tr>\n",
       "    <tr>\n",
       "        <td>3</td>\n",
       "        <td>ag</td>\n",
       "        <td>Algeria</td>\n",
       "        <td>2381741</td>\n",
       "        <td>2381741</td>\n",
       "        <td>0</td>\n",
       "        <td>39542166</td>\n",
       "        <td>1.84</td>\n",
       "        <td>23.67</td>\n",
       "        <td>4.31</td>\n",
       "        <td>0.92</td>\n",
       "    </tr>\n",
       "    <tr>\n",
       "        <td>4</td>\n",
       "        <td>an</td>\n",
       "        <td>Andorra</td>\n",
       "        <td>468</td>\n",
       "        <td>468</td>\n",
       "        <td>0</td>\n",
       "        <td>85580</td>\n",
       "        <td>0.12</td>\n",
       "        <td>8.13</td>\n",
       "        <td>6.96</td>\n",
       "        <td>0.0</td>\n",
       "    </tr>\n",
       "    <tr>\n",
       "        <td>5</td>\n",
       "        <td>ao</td>\n",
       "        <td>Angola</td>\n",
       "        <td>1246700</td>\n",
       "        <td>1246700</td>\n",
       "        <td>0</td>\n",
       "        <td>19625353</td>\n",
       "        <td>2.78</td>\n",
       "        <td>38.78</td>\n",
       "        <td>11.49</td>\n",
       "        <td>0.46</td>\n",
       "    </tr>\n",
       "</table>"
      ],
      "text/plain": [
       "[(1, 'af', 'Afghanistan', 652230, 652230, 0, 32564342, 2.32, 38.57, 13.89, 1.51),\n",
       " (2, 'al', 'Albania', 28748, 27398, 1350, 3029278, 0.3, 12.92, 6.58, 3.3),\n",
       " (3, 'ag', 'Algeria', 2381741, 2381741, 0, 39542166, 1.84, 23.67, 4.31, 0.92),\n",
       " (4, 'an', 'Andorra', 468, 468, 0, 85580, 0.12, 8.13, 6.96, 0.0),\n",
       " (5, 'ao', 'Angola', 1246700, 1246700, 0, 19625353, 2.78, 38.78, 11.49, 0.46)]"
      ]
     },
     "execution_count": 4,
     "metadata": {},
     "output_type": "execute_result"
    }
   ],
   "source": [
    "%%sql\n",
    "SELECT *\n",
    "    FROM facts\n",
    "    LIMIT 5;"
   ]
  },
  {
   "cell_type": "markdown",
   "id": "a5260f5c",
   "metadata": {},
   "source": [
    "<h1 style=\"font-size:80%\"> Table 2: facts </h1>"
   ]
  },
  {
   "cell_type": "markdown",
   "id": "a169f9e5",
   "metadata": {},
   "source": [
    "There are two tables in this database file. Sqlite_sequence table is a summary of facts table. There are 261 entries in total. Facts table is the table this project will be studying."
   ]
  },
  {
   "cell_type": "markdown",
   "id": "78aeaa7b",
   "metadata": {},
   "source": [
    "<a id=\"3\"></a>\n",
    "<h1 style=\"font-size:160%\"> Summary of Statistics</h1>\n",
    "\n",
    "***"
   ]
  },
  {
   "cell_type": "markdown",
   "id": "2a5eb797",
   "metadata": {},
   "source": [
    "There are 11 columns in total:"
   ]
  },
  {
   "cell_type": "markdown",
   "id": "4f29544b",
   "metadata": {},
   "source": [
    "|Columns||Description|\n",
    "|---||:------------------|\n",
    "|id||Row number|\n",
    "|code||ISO code for selected world entity|\n",
    "|name||Name of world entity|\n",
    "|area||Total area of world entity in km$^{2}$|\n",
    "|area_land||Total land area in km$^{2}$|\n",
    "|area_water||Total water area in km$^{2}$|\n",
    "|population||Total population|\n",
    "|population_growth||population growth in percentage|\n",
    "|birth_rate||the number of live births per thousand of population per year|\n",
    "|death_rate||the number of deaths per thousand of population per year|\n",
    "|migration_rate||the number of immigrants per thousand of population per year| "
   ]
  },
  {
   "cell_type": "markdown",
   "id": "ddac3b36",
   "metadata": {},
   "source": [
    "#### Confirm the info from sqlite_sequence"
   ]
  },
  {
   "cell_type": "code",
   "execution_count": 5,
   "id": "71ddbe1f",
   "metadata": {},
   "outputs": [
    {
     "name": "stdout",
     "output_type": "stream",
     "text": [
      " * sqlite:///factbook.db\n",
      "Done.\n"
     ]
    },
    {
     "data": {
      "text/html": [
       "<table>\n",
       "    <tr>\n",
       "        <th>number_of_entries</th>\n",
       "        <th>unique_world_entity</th>\n",
       "    </tr>\n",
       "    <tr>\n",
       "        <td>261</td>\n",
       "        <td>261</td>\n",
       "    </tr>\n",
       "</table>"
      ],
      "text/plain": [
       "[(261, 261)]"
      ]
     },
     "execution_count": 5,
     "metadata": {},
     "output_type": "execute_result"
    }
   ],
   "source": [
    "%%sql \n",
    "SELECT COUNT(*) as number_of_entries,COUNT(DISTINCT name) as unique_world_entity\n",
    "    FROM facts;"
   ]
  },
  {
   "cell_type": "markdown",
   "id": "cf0ee23c",
   "metadata": {},
   "source": [
    "The categories of listed entries include: [$^{[2]}$](https://en.wikipedia.org/wiki/The_World_Factbook#:~:text=Entities%20listed,-Main%20article%3A%20List&text=The%20CIA%20defines%20these%20as,category%2C%20there%20are%20195%20entities.&text=Places%20set%20apart%20from%20the,Taiwan%20and%20the%20European%20Union.)"
   ]
  },
  {
   "cell_type": "markdown",
   "id": "f5fdb5f5",
   "metadata": {},
   "source": [
    "|Categories||Description|\n",
    "|---||:------------------|\n",
    "|Independent countries||The CIA defines these as people \"politically organized into a sovereign state with a definite territory.\" In this category, there are 195 entities.|\n",
    "|Others||Places set apart from the list of independent countries. Currently there are two: Taiwan and the European Union.|\n",
    "|Dependencies and Areas of Special Sovereignty||Places affiliated with another country. They may be subcategorized by affiliated country.|\n",
    "|Miscellaneous||Antarctica and places in dispute. There are six such entities.|\n",
    "|Other entities||The World and the oceans. There are five oceans and the World (the World entry is intended as a summary of the other entries)|"
   ]
  },
  {
   "cell_type": "markdown",
   "id": "eee98c00",
   "metadata": {},
   "source": [
    "The following table are entities that are not countries:"
   ]
  },
  {
   "cell_type": "code",
   "execution_count": 6,
   "id": "3ade3acb",
   "metadata": {},
   "outputs": [
    {
     "name": "stdout",
     "output_type": "stream",
     "text": [
      " * sqlite:///factbook.db\n",
      "Done.\n"
     ]
    },
    {
     "data": {
      "text/html": [
       "<table>\n",
       "    <tr>\n",
       "        <th>id</th>\n",
       "        <th>code</th>\n",
       "        <th>name</th>\n",
       "        <th>area</th>\n",
       "        <th>area_land</th>\n",
       "        <th>area_water</th>\n",
       "        <th>population</th>\n",
       "        <th>population_growth</th>\n",
       "        <th>birth_rate</th>\n",
       "        <th>death_rate</th>\n",
       "        <th>migration_rate</th>\n",
       "    </tr>\n",
       "    <tr>\n",
       "        <td>197</td>\n",
       "        <td>ee</td>\n",
       "        <td>European Union</td>\n",
       "        <td>4324782</td>\n",
       "        <td>None</td>\n",
       "        <td>None</td>\n",
       "        <td>513949445</td>\n",
       "        <td>0.25</td>\n",
       "        <td>10.2</td>\n",
       "        <td>10.2</td>\n",
       "        <td>2.5</td>\n",
       "    </tr>\n",
       "    <tr>\n",
       "        <td>228</td>\n",
       "        <td>io</td>\n",
       "        <td>British Indian Ocean Territory</td>\n",
       "        <td>54400</td>\n",
       "        <td>60</td>\n",
       "        <td>54340</td>\n",
       "        <td>None</td>\n",
       "        <td>None</td>\n",
       "        <td>None</td>\n",
       "        <td>None</td>\n",
       "        <td>None</td>\n",
       "    </tr>\n",
       "    <tr>\n",
       "        <td>256</td>\n",
       "        <td>xq</td>\n",
       "        <td>Arctic Ocean</td>\n",
       "        <td>None</td>\n",
       "        <td>None</td>\n",
       "        <td>None</td>\n",
       "        <td>None</td>\n",
       "        <td>None</td>\n",
       "        <td>None</td>\n",
       "        <td>None</td>\n",
       "        <td>None</td>\n",
       "    </tr>\n",
       "    <tr>\n",
       "        <td>257</td>\n",
       "        <td>zh</td>\n",
       "        <td>Atlantic Ocean</td>\n",
       "        <td>None</td>\n",
       "        <td>None</td>\n",
       "        <td>None</td>\n",
       "        <td>None</td>\n",
       "        <td>None</td>\n",
       "        <td>None</td>\n",
       "        <td>None</td>\n",
       "        <td>None</td>\n",
       "    </tr>\n",
       "    <tr>\n",
       "        <td>258</td>\n",
       "        <td>xo</td>\n",
       "        <td>Indian Ocean</td>\n",
       "        <td>None</td>\n",
       "        <td>None</td>\n",
       "        <td>None</td>\n",
       "        <td>None</td>\n",
       "        <td>None</td>\n",
       "        <td>None</td>\n",
       "        <td>None</td>\n",
       "        <td>None</td>\n",
       "    </tr>\n",
       "    <tr>\n",
       "        <td>259</td>\n",
       "        <td>zn</td>\n",
       "        <td>Pacific Ocean</td>\n",
       "        <td>None</td>\n",
       "        <td>None</td>\n",
       "        <td>None</td>\n",
       "        <td>None</td>\n",
       "        <td>None</td>\n",
       "        <td>None</td>\n",
       "        <td>None</td>\n",
       "        <td>None</td>\n",
       "    </tr>\n",
       "    <tr>\n",
       "        <td>260</td>\n",
       "        <td>oo</td>\n",
       "        <td>Southern Ocean</td>\n",
       "        <td>None</td>\n",
       "        <td>None</td>\n",
       "        <td>None</td>\n",
       "        <td>None</td>\n",
       "        <td>None</td>\n",
       "        <td>None</td>\n",
       "        <td>None</td>\n",
       "        <td>None</td>\n",
       "    </tr>\n",
       "</table>"
      ],
      "text/plain": [
       "[(197, 'ee', 'European Union', 4324782, None, None, 513949445, 0.25, 10.2, 10.2, 2.5),\n",
       " (228, 'io', 'British Indian Ocean Territory', 54400, 60, 54340, None, None, None, None, None),\n",
       " (256, 'xq', 'Arctic Ocean', None, None, None, None, None, None, None, None),\n",
       " (257, 'zh', 'Atlantic Ocean', None, None, None, None, None, None, None, None),\n",
       " (258, 'xo', 'Indian Ocean', None, None, None, None, None, None, None, None),\n",
       " (259, 'zn', 'Pacific Ocean', None, None, None, None, None, None, None, None),\n",
       " (260, 'oo', 'Southern Ocean', None, None, None, None, None, None, None, None)]"
      ]
     },
     "execution_count": 6,
     "metadata": {},
     "output_type": "execute_result"
    }
   ],
   "source": [
    "%%sql\n",
    "SELECT *\n",
    "    FROM facts\n",
    "    WHERE name LIKE '%Union%'\n",
    "    OR name LIKE '%ocean%';"
   ]
  },
  {
   "cell_type": "markdown",
   "id": "7c3b2bb6",
   "metadata": {},
   "source": [
    "<a id=\"4\"></a>\n",
    "<h1 style=\"font-size:160%\"> Population</h1>\n",
    "\n",
    "***"
   ]
  },
  {
   "cell_type": "markdown",
   "id": "973656af",
   "metadata": {},
   "source": [
    "#### Calculating summary of population and look for any outlier countries."
   ]
  },
  {
   "cell_type": "code",
   "execution_count": 7,
   "id": "266c8d32-def3-479e-b024-2827de408653",
   "metadata": {},
   "outputs": [
    {
     "name": "stdout",
     "output_type": "stream",
     "text": [
      " * sqlite:///factbook.db\n",
      "Done.\n"
     ]
    },
    {
     "data": {
      "text/html": [
       "<table>\n",
       "    <tr>\n",
       "        <th>Min_Population</th>\n",
       "        <th>AVG_Population</th>\n",
       "        <th>Max_Population</th>\n",
       "    </tr>\n",
       "    <tr>\n",
       "        <td>0</td>\n",
       "        <td>62094928</td>\n",
       "        <td>7256490011</td>\n",
       "    </tr>\n",
       "</table>"
      ],
      "text/plain": [
       "[(0, 62094928, 7256490011)]"
      ]
     },
     "execution_count": 7,
     "metadata": {},
     "output_type": "execute_result"
    }
   ],
   "source": [
    "%%sql\n",
    "SELECT  MIN(population) as Min_Population ,\n",
    "        CAST(ROUND(AVG(population))AS INT) as AVG_Population,\n",
    "        MAX(population) as Max_Population\n",
    "    FROM facts;"
   ]
  },
  {
   "cell_type": "markdown",
   "id": "ce78417e",
   "metadata": {},
   "source": [
    "There are two findings in the results.\n",
    "- There is a world entity with 0 population\n",
    "- There is a world entity with close to the total amount population of the world [$^{[3]}$](https://www.worldometers.info/world-population/)\n",
    "\n",
    "To figure out the outliers, we would find the min and max entries of the data"
   ]
  },
  {
   "cell_type": "markdown",
   "id": "825b1b5b",
   "metadata": {},
   "source": [
    "#### Entry with minimum and maximum population"
   ]
  },
  {
   "cell_type": "code",
   "execution_count": 8,
   "id": "a2dc5480-d3c3-465b-ba69-4ade5aedd94a",
   "metadata": {},
   "outputs": [
    {
     "name": "stdout",
     "output_type": "stream",
     "text": [
      " * sqlite:///factbook.db\n",
      "Done.\n"
     ]
    },
    {
     "data": {
      "text/html": [
       "<table>\n",
       "    <tr>\n",
       "        <th>id</th>\n",
       "        <th>code</th>\n",
       "        <th>name</th>\n",
       "        <th>area</th>\n",
       "        <th>area_land</th>\n",
       "        <th>area_water</th>\n",
       "        <th>population</th>\n",
       "        <th>population_growth</th>\n",
       "        <th>birth_rate</th>\n",
       "        <th>death_rate</th>\n",
       "        <th>migration_rate</th>\n",
       "    </tr>\n",
       "    <tr>\n",
       "        <td>250</td>\n",
       "        <td>ay</td>\n",
       "        <td>Antarctica</td>\n",
       "        <td>None</td>\n",
       "        <td>280000</td>\n",
       "        <td>None</td>\n",
       "        <td>0</td>\n",
       "        <td>None</td>\n",
       "        <td>None</td>\n",
       "        <td>None</td>\n",
       "        <td>None</td>\n",
       "    </tr>\n",
       "    <tr>\n",
       "        <td>261</td>\n",
       "        <td>xx</td>\n",
       "        <td>World</td>\n",
       "        <td>None</td>\n",
       "        <td>None</td>\n",
       "        <td>None</td>\n",
       "        <td>7256490011</td>\n",
       "        <td>1.08</td>\n",
       "        <td>18.6</td>\n",
       "        <td>7.8</td>\n",
       "        <td>None</td>\n",
       "    </tr>\n",
       "</table>"
      ],
      "text/plain": [
       "[(250, 'ay', 'Antarctica', None, 280000, None, 0, None, None, None, None),\n",
       " (261, 'xx', 'World', None, None, None, 7256490011, 1.08, 18.6, 7.8, None)]"
      ]
     },
     "execution_count": 8,
     "metadata": {},
     "output_type": "execute_result"
    }
   ],
   "source": [
    "%%sql\n",
    "SELECT *\n",
    "    FROM facts\n",
    "    WHERE population == (SELECT MIN(population)\n",
    "                        FROM facts\n",
    "                     )\n",
    "    OR population == (SELECT MAX(population)\n",
    "                        FROM facts\n",
    "                     );"
   ]
  },
  {
   "cell_type": "markdown",
   "id": "2d9d0a67",
   "metadata": {},
   "source": [
    "Antarctica is a unique continent in that it does not have a native population due to the unforgiving climate and terrain, although a few thousand people are located there on a temporary basis at one of the many research stations.[$^{[4]}$](https://education.nationalgeographic.org/resource/antarctica)\n"
   ]
  },
  {
   "cell_type": "markdown",
   "id": "07896cf5",
   "metadata": {},
   "source": [
    "The table has also included the world as one of entries. Another interesting finding is that the total population of the world could reflect the year when this dataset is collected. 7.25 billion falls somewhere between 2013-2014.[$^{[5]}$](https://www.worldometers.info/world-population/world-population-by-year/)"
   ]
  },
  {
   "cell_type": "markdown",
   "id": "13998279",
   "metadata": {},
   "source": [
    "Taking the above findings into consideration, this is the summary statistics:"
   ]
  },
  {
   "cell_type": "markdown",
   "id": "d362edc8",
   "metadata": {},
   "source": [
    "#### Calculating summary of population, omitting World"
   ]
  },
  {
   "cell_type": "code",
   "execution_count": 9,
   "id": "13da57c2",
   "metadata": {},
   "outputs": [
    {
     "name": "stdout",
     "output_type": "stream",
     "text": [
      " * sqlite:///factbook.db\n",
      "Done.\n"
     ]
    },
    {
     "data": {
      "text/html": [
       "<table>\n",
       "    <tr>\n",
       "        <th>Min_Population</th>\n",
       "        <th>AVG_Population</th>\n",
       "        <th>Max_Population</th>\n",
       "    </tr>\n",
       "    <tr>\n",
       "        <td>0</td>\n",
       "        <td>30235555</td>\n",
       "        <td>1367485388</td>\n",
       "    </tr>\n",
       "</table>"
      ],
      "text/plain": [
       "[(0, 30235555, 1367485388)]"
      ]
     },
     "execution_count": 9,
     "metadata": {},
     "output_type": "execute_result"
    }
   ],
   "source": [
    "%%sql\n",
    "SELECT  MIN(population) as Min_Population ,\n",
    "        CAST(ROUND(AVG(population))as INT) as AVG_Population,\n",
    "        MAX(population) as Max_Population\n",
    "        \n",
    "    FROM facts\n",
    "    WHERE name <> \"World\"\n",
    "    AND name NOT LIKE '%Union%'\n",
    "    AND name NOT LIKE '%ocean%'\n",
    "    "
   ]
  },
  {
   "cell_type": "markdown",
   "id": "453e0460",
   "metadata": {},
   "source": [
    "#### Calculating summary of population, omitting World and 0 population"
   ]
  },
  {
   "cell_type": "code",
   "execution_count": 10,
   "id": "004ac7ad",
   "metadata": {},
   "outputs": [
    {
     "name": "stdout",
     "output_type": "stream",
     "text": [
      " * sqlite:///factbook.db\n",
      "Done.\n"
     ]
    },
    {
     "data": {
      "text/html": [
       "<table>\n",
       "    <tr>\n",
       "        <th>Min_Population</th>\n",
       "        <th>AVG_Population</th>\n",
       "        <th>Max_Population</th>\n",
       "    </tr>\n",
       "    <tr>\n",
       "        <td>48</td>\n",
       "        <td>30362064</td>\n",
       "        <td>1367485388</td>\n",
       "    </tr>\n",
       "</table>"
      ],
      "text/plain": [
       "[(48, 30362064, 1367485388)]"
      ]
     },
     "execution_count": 10,
     "metadata": {},
     "output_type": "execute_result"
    }
   ],
   "source": [
    "%%sql\n",
    "SELECT  MIN(population) as Min_Population ,\n",
    "        CAST(ROUND(AVG(population))AS INT) as AVG_Population,\n",
    "        MAX(population) as Max_Population\n",
    "        \n",
    "    FROM facts\n",
    "    WHERE name <> \"World\"\n",
    "    AND name NOT LIKE '%Union%'\n",
    "    AND name NOT LIKE '%ocean%'\n",
    "    AND population <> 0;"
   ]
  },
  {
   "cell_type": "markdown",
   "id": "7617776f",
   "metadata": {},
   "source": [
    "Minimum population without including world and entities with no population is 48.Average popluation is around 30 million. Maximum population is around 1 billion 36 million."
   ]
  },
  {
   "cell_type": "markdown",
   "id": "4d83e37a",
   "metadata": {},
   "source": [
    "<a id=\"5\"></a>\n",
    "<h1 style=\"font-size: 135%\">A) Top 5 Countries in Population</h1>"
   ]
  },
  {
   "cell_type": "code",
   "execution_count": 11,
   "id": "23cd90fd-d5ed-43b1-8910-31ba5652f559",
   "metadata": {},
   "outputs": [
    {
     "name": "stdout",
     "output_type": "stream",
     "text": [
      " * sqlite:///factbook.db\n",
      "Done.\n"
     ]
    },
    {
     "data": {
      "text/html": [
       "<table>\n",
       "    <tr>\n",
       "        <th>Country</th>\n",
       "        <th>population</th>\n",
       "        <th>percent</th>\n",
       "    </tr>\n",
       "    <tr>\n",
       "        <td>China</td>\n",
       "        <td>1367485388</td>\n",
       "        <td>18.845</td>\n",
       "    </tr>\n",
       "    <tr>\n",
       "        <td>India</td>\n",
       "        <td>1251695584</td>\n",
       "        <td>17.249</td>\n",
       "    </tr>\n",
       "    <tr>\n",
       "        <td>United States</td>\n",
       "        <td>321368864</td>\n",
       "        <td>4.429</td>\n",
       "    </tr>\n",
       "    <tr>\n",
       "        <td>Indonesia</td>\n",
       "        <td>255993674</td>\n",
       "        <td>3.528</td>\n",
       "    </tr>\n",
       "    <tr>\n",
       "        <td>Brazil</td>\n",
       "        <td>204259812</td>\n",
       "        <td>2.815</td>\n",
       "    </tr>\n",
       "</table>"
      ],
      "text/plain": [
       "[('China', 1367485388, 18.845),\n",
       " ('India', 1251695584, 17.249),\n",
       " ('United States', 321368864, 4.429),\n",
       " ('Indonesia', 255993674, 3.528),\n",
       " ('Brazil', 204259812, 2.815)]"
      ]
     },
     "execution_count": 11,
     "metadata": {},
     "output_type": "execute_result"
    }
   ],
   "source": [
    "%%sql \n",
    "SELECT name AS \"Country\" ,\n",
    "       population,\n",
    "        ROUND(\n",
    "                100*\n",
    "                population / \n",
    "                (SELECT CAST(MAX(population)AS Float) FROM facts) \n",
    "            ,3) AS percent\n",
    "\n",
    "FROM facts\n",
    "WHERE population <> 0\n",
    "AND name <> \"World\"\n",
    "AND name NOT LIKE \"%Union%\"\n",
    "-- omit European Union\n",
    "ORDER BY 2 DESC\n",
    "LIMIT 5"
   ]
  },
  {
   "cell_type": "code",
   "execution_count": 12,
   "id": "5c0242cc",
   "metadata": {},
   "outputs": [
    {
     "name": "stdout",
     "output_type": "stream",
     "text": [
      " * sqlite:///factbook.db\n",
      "Done.\n"
     ]
    },
    {
     "data": {
      "text/html": [
       "<table>\n",
       "    <tr>\n",
       "        <th>total_population</th>\n",
       "        <th>total_percent</th>\n",
       "    </tr>\n",
       "    <tr>\n",
       "        <td>3400803322</td>\n",
       "        <td>47</td>\n",
       "    </tr>\n",
       "</table>"
      ],
      "text/plain": [
       "[(3400803322, 47)]"
      ]
     },
     "execution_count": 12,
     "metadata": {},
     "output_type": "execute_result"
    }
   ],
   "source": [
    "%%sql \n",
    "WITH T1 AS (SELECT name AS \"Country\" ,\n",
    "       population,\n",
    "        ROUND(\n",
    "                100*\n",
    "                population / \n",
    "                (SELECT CAST(MAX(population)AS Float) FROM facts) \n",
    "            ,3) AS percent\n",
    "\n",
    "FROM facts\n",
    "WHERE population <> 0\n",
    "AND name <> \"World\"\n",
    "AND name NOT LIKE \"%Union%\"\n",
    "-- omit European Union\n",
    "ORDER BY 2 DESC\n",
    "LIMIT 5)\n",
    "\n",
    "SELECT \n",
    "    SUM(population) AS total_population,\n",
    "    CAST(ROUND(SUM(percent))AS INT) AS total_percent\n",
    "FROM T1"
   ]
  },
  {
   "cell_type": "markdown",
   "id": "26d48224",
   "metadata": {},
   "source": [
    "- Top 5 countires in total population are China,India,United States,Indonesia,Brazil. They have a combined population of 3 billion 4 hundred million and contribute 47% to the global population.\n",
    "- China has the most population of 1 billion 3 hundred million and contribute 19% to the global population."
   ]
  },
  {
   "cell_type": "markdown",
   "id": "d5d3261b",
   "metadata": {},
   "source": [
    "<a id=\"6\"></a>\n",
    "<h1 style=\"font-size: 135%\">B) Least 5 Dependencies in Total Population</h1>"
   ]
  },
  {
   "cell_type": "code",
   "execution_count": 13,
   "id": "d0525ea4",
   "metadata": {},
   "outputs": [
    {
     "name": "stdout",
     "output_type": "stream",
     "text": [
      " * sqlite:///factbook.db\n",
      "Done.\n"
     ]
    },
    {
     "data": {
      "text/html": [
       "<table>\n",
       "    <tr>\n",
       "        <th>Dependency</th>\n",
       "        <th>population</th>\n",
       "    </tr>\n",
       "    <tr>\n",
       "        <td>Pitcairn Islands</td>\n",
       "        <td>48</td>\n",
       "    </tr>\n",
       "    <tr>\n",
       "        <td>Cocos (Keeling) Islands</td>\n",
       "        <td>596</td>\n",
       "    </tr>\n",
       "    <tr>\n",
       "        <td>Holy See (Vatican City)</td>\n",
       "        <td>842</td>\n",
       "    </tr>\n",
       "    <tr>\n",
       "        <td>Niue</td>\n",
       "        <td>1190</td>\n",
       "    </tr>\n",
       "    <tr>\n",
       "        <td>Tokelau</td>\n",
       "        <td>1337</td>\n",
       "    </tr>\n",
       "</table>"
      ],
      "text/plain": [
       "[('Pitcairn Islands', 48),\n",
       " ('Cocos (Keeling) Islands', 596),\n",
       " ('Holy See (Vatican City)', 842),\n",
       " ('Niue', 1190),\n",
       " ('Tokelau', 1337)]"
      ]
     },
     "execution_count": 13,
     "metadata": {},
     "output_type": "execute_result"
    }
   ],
   "source": [
    "%%sql \n",
    "SELECT name AS \"Dependency\" ,\n",
    "       population\n",
    "\n",
    "FROM facts\n",
    "WHERE population <> 0\n",
    "AND name <> \"World\"\n",
    "AND name NOT LIKE \"%Union%\"\n",
    "-- omit European Union\n",
    "ORDER BY 2 \n",
    "LIMIT 5"
   ]
  },
  {
   "cell_type": "code",
   "execution_count": 14,
   "id": "670b62b1",
   "metadata": {},
   "outputs": [
    {
     "name": "stdout",
     "output_type": "stream",
     "text": [
      " * sqlite:///factbook.db\n",
      "Done.\n"
     ]
    },
    {
     "data": {
      "text/html": [
       "<table>\n",
       "    <tr>\n",
       "        <th>total_population</th>\n",
       "    </tr>\n",
       "    <tr>\n",
       "        <td>4013</td>\n",
       "    </tr>\n",
       "</table>"
      ],
      "text/plain": [
       "[(4013,)]"
      ]
     },
     "execution_count": 14,
     "metadata": {},
     "output_type": "execute_result"
    }
   ],
   "source": [
    "%%sql \n",
    "WITH T1 AS (SELECT name AS \"Dependency\" ,\n",
    "       population\n",
    "\n",
    "FROM facts\n",
    "WHERE population <> 0\n",
    "AND name <> \"World\"\n",
    "AND name NOT LIKE \"%Union%\"\n",
    "-- omit European Union\n",
    "ORDER BY 2\n",
    "LIMIT 5)\n",
    "\n",
    "SELECT \n",
    "    SUM(population) AS total_population\n",
    "FROM T1"
   ]
  },
  {
   "cell_type": "markdown",
   "id": "2e4f3ce7",
   "metadata": {},
   "source": [
    "- Least 5 Dependencies in total population are Pitcairn Islands, Cocos (Keeling) Islands, Holy See (Vatican City), Niue, Tokelau. They have a combined population of 4 thousand.\n",
    "- Pitcairn Islands have the least population of 48."
   ]
  },
  {
   "cell_type": "markdown",
   "id": "95ff6d48",
   "metadata": {},
   "source": [
    "<a id=\"7\"></a>\n",
    "<h1 style=\"font-size:160%\"> Population Density</h1>\n",
    "\n",
    "***"
   ]
  },
  {
   "cell_type": "markdown",
   "id": "02cc870c",
   "metadata": {},
   "source": [
    "The number of individuals living within that specific location determines the population density, or the number of individuals divided by the size of the area. Population density can be used to describe the location, growth, and migration of many organisms.[$^{[6]}$](https://education.nationalgeographic.org/resource/population-density)\n",
    "\n",
    "According to the table of columns, the equation of population density would be:"
   ]
  },
  {
   "cell_type": "markdown",
   "id": "506d67bb",
   "metadata": {},
   "source": [
    "\\begin{equation}\n",
    "{Population \\, Density}=\\frac{population}{area \\, land(km^{2})}\n",
    "\\end{equation}"
   ]
  },
  {
   "cell_type": "markdown",
   "id": "6f6db98f",
   "metadata": {},
   "source": [
    "#### Scan summary of population and area land to look for outliers"
   ]
  },
  {
   "cell_type": "code",
   "execution_count": 15,
   "id": "402a842f",
   "metadata": {},
   "outputs": [
    {
     "name": "stdout",
     "output_type": "stream",
     "text": [
      " * sqlite:///factbook.db\n",
      "Done.\n"
     ]
    },
    {
     "data": {
      "text/html": [
       "<table>\n",
       "    <tr>\n",
       "        <th>COUNT(*)</th>\n",
       "    </tr>\n",
       "    <tr>\n",
       "        <td>29</td>\n",
       "    </tr>\n",
       "</table>"
      ],
      "text/plain": [
       "[(29,)]"
      ]
     },
     "execution_count": 15,
     "metadata": {},
     "output_type": "execute_result"
    }
   ],
   "source": [
    "%%sql\n",
    "SELECT COUNT(*)\n",
    "  FROM facts\n",
    "WHERE population = 0\n",
    "OR population IS NULL\n",
    "OR area_land = 0\n",
    "OR area_land IS NULL;"
   ]
  },
  {
   "cell_type": "markdown",
   "id": "eec7ce28",
   "metadata": {},
   "source": [
    "There are in total 29 entries that either have population and/or land area is 0 and/or null. These entries would be excluded from the calculation of population density."
   ]
  },
  {
   "cell_type": "markdown",
   "id": "a423a8cb",
   "metadata": {},
   "source": [
    "<a id=\"8\"></a>\n",
    "<h1 style=\"font-size: 135%\">A) Countries with the Highest Population Density</h1> "
   ]
  },
  {
   "cell_type": "code",
   "execution_count": 16,
   "id": "aac51125",
   "metadata": {},
   "outputs": [
    {
     "name": "stdout",
     "output_type": "stream",
     "text": [
      " * sqlite:///factbook.db\n",
      "Done.\n"
     ]
    },
    {
     "data": {
      "text/html": [
       "<table>\n",
       "    <tr>\n",
       "        <th>name</th>\n",
       "        <th>area_land</th>\n",
       "        <th>population</th>\n",
       "        <th>population_density</th>\n",
       "    </tr>\n",
       "    <tr>\n",
       "        <td>Macau</td>\n",
       "        <td>28</td>\n",
       "        <td>592731</td>\n",
       "        <td>21168</td>\n",
       "    </tr>\n",
       "    <tr>\n",
       "        <td>Monaco</td>\n",
       "        <td>2</td>\n",
       "        <td>30535</td>\n",
       "        <td>15267</td>\n",
       "    </tr>\n",
       "    <tr>\n",
       "        <td>Singapore</td>\n",
       "        <td>687</td>\n",
       "        <td>5674472</td>\n",
       "        <td>8259</td>\n",
       "    </tr>\n",
       "    <tr>\n",
       "        <td>Hong Kong</td>\n",
       "        <td>1073</td>\n",
       "        <td>7141106</td>\n",
       "        <td>6655</td>\n",
       "    </tr>\n",
       "    <tr>\n",
       "        <td>Gaza Strip</td>\n",
       "        <td>360</td>\n",
       "        <td>1869055</td>\n",
       "        <td>5191</td>\n",
       "    </tr>\n",
       "    <tr>\n",
       "        <td>Gibraltar</td>\n",
       "        <td>6</td>\n",
       "        <td>29258</td>\n",
       "        <td>4876</td>\n",
       "    </tr>\n",
       "    <tr>\n",
       "        <td>Bahrain</td>\n",
       "        <td>760</td>\n",
       "        <td>1346613</td>\n",
       "        <td>1771</td>\n",
       "    </tr>\n",
       "    <tr>\n",
       "        <td>Maldives</td>\n",
       "        <td>298</td>\n",
       "        <td>393253</td>\n",
       "        <td>1319</td>\n",
       "    </tr>\n",
       "    <tr>\n",
       "        <td>Malta</td>\n",
       "        <td>316</td>\n",
       "        <td>413965</td>\n",
       "        <td>1310</td>\n",
       "    </tr>\n",
       "    <tr>\n",
       "        <td>Bermuda</td>\n",
       "        <td>54</td>\n",
       "        <td>70196</td>\n",
       "        <td>1299</td>\n",
       "    </tr>\n",
       "</table>"
      ],
      "text/plain": [
       "[('Macau', 28, 592731, 21168),\n",
       " ('Monaco', 2, 30535, 15267),\n",
       " ('Singapore', 687, 5674472, 8259),\n",
       " ('Hong Kong', 1073, 7141106, 6655),\n",
       " ('Gaza Strip', 360, 1869055, 5191),\n",
       " ('Gibraltar', 6, 29258, 4876),\n",
       " ('Bahrain', 760, 1346613, 1771),\n",
       " ('Maldives', 298, 393253, 1319),\n",
       " ('Malta', 316, 413965, 1310),\n",
       " ('Bermuda', 54, 70196, 1299)]"
      ]
     },
     "execution_count": 16,
     "metadata": {},
     "output_type": "execute_result"
    }
   ],
   "source": [
    "%%sql\n",
    "WITH T1 AS (SELECT name\n",
    "                        FROM facts\n",
    "                        WHERE population =0\n",
    "                        OR population IS null\n",
    "                        OR area_land= 0\n",
    "                        OR area_land IS null)\n",
    "SELECT  name,\n",
    "        area_land,\n",
    "        population,\n",
    "        CAST(CAST(population AS FLOAT)/ CAST(area_land AS FLOAT)AS INT) AS population_density\n",
    "FROM facts\n",
    "WHERE name NOT IN t1\n",
    "ORDER BY 4 DESC\n",
    "LIMIT 10;"
   ]
  },
  {
   "cell_type": "markdown",
   "id": "02e6f57c",
   "metadata": {},
   "source": [
    "Macao Special Administrative Region of the People's Republic of China holds the highest population density of the world at 21168 person per km$^{2}$. Monaco holds the second place, followed by Singapore, Hong Kong and Gaza Strip."
   ]
  },
  {
   "cell_type": "markdown",
   "id": "030f6c38",
   "metadata": {},
   "source": [
    "Other than Singapore, the top five entities are either special adminstrative areas or self-governing territories. However, the scope of this project aims to figure out the population density from a more general persepctive. With that in mind, there needs to be a better definition to identify the entities this project is looking for."
   ]
  },
  {
   "cell_type": "markdown",
   "id": "a07bd0f7",
   "metadata": {},
   "source": [
    "An intuitive approach would be identifying countries that fulfill the followings:\n",
    "    \n",
    "For a densely populated country or territory:\n",
    "\n",
    "WHERE \n",
    "\n",
    "- Population > Average values for population.\n",
    "- LAND AREA < Average values for area."
   ]
  },
  {
   "cell_type": "code",
   "execution_count": 17,
   "id": "b13be97a",
   "metadata": {},
   "outputs": [
    {
     "name": "stdout",
     "output_type": "stream",
     "text": [
      " * sqlite:///factbook.db\n",
      "Done.\n"
     ]
    },
    {
     "data": {
      "text/html": [
       "<table>\n",
       "    <tr>\n",
       "        <th>name</th>\n",
       "        <th>area_land</th>\n",
       "        <th>population</th>\n",
       "        <th>population_density</th>\n",
       "    </tr>\n",
       "    <tr>\n",
       "        <td>Bangladesh</td>\n",
       "        <td>130170</td>\n",
       "        <td>168957745</td>\n",
       "        <td>1297</td>\n",
       "    </tr>\n",
       "    <tr>\n",
       "        <td>Korea, South</td>\n",
       "        <td>96920</td>\n",
       "        <td>49115196</td>\n",
       "        <td>506</td>\n",
       "    </tr>\n",
       "    <tr>\n",
       "        <td>India</td>\n",
       "        <td>2973193</td>\n",
       "        <td>1251695584</td>\n",
       "        <td>420</td>\n",
       "    </tr>\n",
       "    <tr>\n",
       "        <td>Japan</td>\n",
       "        <td>364485</td>\n",
       "        <td>126919659</td>\n",
       "        <td>348</td>\n",
       "    </tr>\n",
       "    <tr>\n",
       "        <td>Philippines</td>\n",
       "        <td>298170</td>\n",
       "        <td>100998376</td>\n",
       "        <td>338</td>\n",
       "    </tr>\n",
       "    <tr>\n",
       "        <td>Vietnam</td>\n",
       "        <td>310070</td>\n",
       "        <td>94348835</td>\n",
       "        <td>304</td>\n",
       "    </tr>\n",
       "    <tr>\n",
       "        <td>United Kingdom</td>\n",
       "        <td>241930</td>\n",
       "        <td>64088222</td>\n",
       "        <td>264</td>\n",
       "    </tr>\n",
       "    <tr>\n",
       "        <td>Pakistan</td>\n",
       "        <td>770875</td>\n",
       "        <td>199085847</td>\n",
       "        <td>258</td>\n",
       "    </tr>\n",
       "    <tr>\n",
       "        <td>Germany</td>\n",
       "        <td>348672</td>\n",
       "        <td>80854408</td>\n",
       "        <td>231</td>\n",
       "    </tr>\n",
       "    <tr>\n",
       "        <td>Nepal</td>\n",
       "        <td>143351</td>\n",
       "        <td>31551305</td>\n",
       "        <td>220</td>\n",
       "    </tr>\n",
       "</table>"
      ],
      "text/plain": [
       "[('Bangladesh', 130170, 168957745, 1297),\n",
       " ('Korea, South', 96920, 49115196, 506),\n",
       " ('India', 2973193, 1251695584, 420),\n",
       " ('Japan', 364485, 126919659, 348),\n",
       " ('Philippines', 298170, 100998376, 338),\n",
       " ('Vietnam', 310070, 94348835, 304),\n",
       " ('United Kingdom', 241930, 64088222, 264),\n",
       " ('Pakistan', 770875, 199085847, 258),\n",
       " ('Germany', 348672, 80854408, 231),\n",
       " ('Nepal', 143351, 31551305, 220)]"
      ]
     },
     "execution_count": 17,
     "metadata": {},
     "output_type": "execute_result"
    }
   ],
   "source": [
    "%%sql\n",
    "WITH T1 AS (SELECT name\n",
    "                        FROM facts\n",
    "                        WHERE population =0\n",
    "                        OR population IS null\n",
    "                        OR area_land= 0\n",
    "                        OR area_land IS null\n",
    "                        OR name LIKE '%Union%'\n",
    "                        OR name LIKE '%ocean%'),\n",
    "\n",
    "T2 AS(SELECT  name,\n",
    "        area_land,\n",
    "        population,\n",
    "        CAST(CAST(population AS FLOAT)/ CAST(area_land AS FLOAT)AS INT) AS population_density\n",
    "FROM facts\n",
    "WHERE name NOT IN t1)\n",
    "\n",
    "SELECT *\n",
    "FROM T2\n",
    "WHERE population > (SELECT AVG(population)FROM T2)\n",
    "AND area_land<(SELECT AVG(population)FROM T2)\n",
    "ORDER BY 4 DESC\n",
    "LIMIT 10;"
   ]
  },
  {
   "cell_type": "markdown",
   "id": "6193e4b9",
   "metadata": {},
   "source": [
    "The results have greatly improved and show population density from a national perspective. However, the definition that was applied seems to be too vauge. Not only does it rule out too many entries, using average as the cutoff does not provide a lot of information.\n",
    "\n",
    "Since the project wants to exclude extreme cases with very small land area. A more informative approach would be using percentile of land area as a condition. This way the project have the flexibility to reflect information in different scales."
   ]
  },
  {
   "cell_type": "code",
   "execution_count": 18,
   "id": "6445c99c",
   "metadata": {},
   "outputs": [
    {
     "name": "stdout",
     "output_type": "stream",
     "text": [
      " * sqlite:///factbook.db\n",
      "Done.\n"
     ]
    },
    {
     "data": {
      "text/html": [
       "<table>\n",
       "    <tr>\n",
       "        <th>name</th>\n",
       "        <th>area</th>\n",
       "        <th>percentile</th>\n",
       "    </tr>\n",
       "    <tr>\n",
       "        <td>Monaco</td>\n",
       "        <td>2</td>\n",
       "        <td>0.0</td>\n",
       "    </tr>\n",
       "    <tr>\n",
       "        <td>Gibraltar</td>\n",
       "        <td>6</td>\n",
       "        <td>0.43</td>\n",
       "    </tr>\n",
       "    <tr>\n",
       "        <td>Tokelau</td>\n",
       "        <td>12</td>\n",
       "        <td>0.87</td>\n",
       "    </tr>\n",
       "    <tr>\n",
       "        <td>Cocos (Keeling) Islands</td>\n",
       "        <td>14</td>\n",
       "        <td>1.3</td>\n",
       "    </tr>\n",
       "    <tr>\n",
       "        <td>Nauru</td>\n",
       "        <td>21</td>\n",
       "        <td>1.73</td>\n",
       "    </tr>\n",
       "    <tr>\n",
       "        <td>Tuvalu</td>\n",
       "        <td>26</td>\n",
       "        <td>2.16</td>\n",
       "    </tr>\n",
       "    <tr>\n",
       "        <td>Macau</td>\n",
       "        <td>28</td>\n",
       "        <td>2.6</td>\n",
       "    </tr>\n",
       "    <tr>\n",
       "        <td>Sint Maarten</td>\n",
       "        <td>34</td>\n",
       "        <td>3.03</td>\n",
       "    </tr>\n",
       "    <tr>\n",
       "        <td>Norfolk Island</td>\n",
       "        <td>36</td>\n",
       "        <td>3.46</td>\n",
       "    </tr>\n",
       "    <tr>\n",
       "        <td>Pitcairn Islands</td>\n",
       "        <td>47</td>\n",
       "        <td>3.9</td>\n",
       "    </tr>\n",
       "</table>"
      ],
      "text/plain": [
       "[('Monaco', 2, 0.0),\n",
       " ('Gibraltar', 6, 0.43),\n",
       " ('Tokelau', 12, 0.87),\n",
       " ('Cocos (Keeling) Islands', 14, 1.3),\n",
       " ('Nauru', 21, 1.73),\n",
       " ('Tuvalu', 26, 2.16),\n",
       " ('Macau', 28, 2.6),\n",
       " ('Sint Maarten', 34, 3.03),\n",
       " ('Norfolk Island', 36, 3.46),\n",
       " ('Pitcairn Islands', 47, 3.9)]"
      ]
     },
     "execution_count": 18,
     "metadata": {},
     "output_type": "execute_result"
    }
   ],
   "source": [
    "%%sql \n",
    "SELECT name,\n",
    "       area,\n",
    "       ROUND(percent_rank() over(ORDER BY area_land ASC)*100,2) as percentile\n",
    "from facts\n",
    "WHERE name NOT IN (SELECT name\n",
    "                        FROM facts\n",
    "                        WHERE population =0\n",
    "                        OR population IS null\n",
    "                        OR area_land= 0\n",
    "                        OR area_land IS null\n",
    "                        OR name LIKE '%Union%'\n",
    "                        OR name LIKE '%ocean%')\n",
    "LIMIT 10;"
   ]
  },
  {
   "cell_type": "markdown",
   "id": "4b7c2b8b",
   "metadata": {},
   "source": [
    "There could be an ideal percentile cutoff depending on the project. However, it is out of the scope of this project. For demonstration purposes, the percentile cutoff for land area will be set at 30%."
   ]
  },
  {
   "cell_type": "code",
   "execution_count": 19,
   "id": "3883f52d",
   "metadata": {},
   "outputs": [
    {
     "name": "stdout",
     "output_type": "stream",
     "text": [
      " * sqlite:///factbook.db\n",
      "Done.\n"
     ]
    },
    {
     "data": {
      "text/html": [
       "<table>\n",
       "    <tr>\n",
       "        <th>name</th>\n",
       "        <th>area_land</th>\n",
       "        <th>population</th>\n",
       "        <th>land_percentile</th>\n",
       "        <th>population_density</th>\n",
       "    </tr>\n",
       "    <tr>\n",
       "        <td>Bangladesh</td>\n",
       "        <td>130170</td>\n",
       "        <td>168957745</td>\n",
       "        <td>59.74</td>\n",
       "        <td>1297</td>\n",
       "    </tr>\n",
       "    <tr>\n",
       "        <td>Taiwan</td>\n",
       "        <td>32260</td>\n",
       "        <td>23415126</td>\n",
       "        <td>41.99</td>\n",
       "        <td>725</td>\n",
       "    </tr>\n",
       "    <tr>\n",
       "        <td>Rwanda</td>\n",
       "        <td>24668</td>\n",
       "        <td>12661733</td>\n",
       "        <td>37.23</td>\n",
       "        <td>513</td>\n",
       "    </tr>\n",
       "    <tr>\n",
       "        <td>Korea, South</td>\n",
       "        <td>96920</td>\n",
       "        <td>49115196</td>\n",
       "        <td>55.41</td>\n",
       "        <td>506</td>\n",
       "    </tr>\n",
       "    <tr>\n",
       "        <td>Netherlands</td>\n",
       "        <td>33893</td>\n",
       "        <td>16947904</td>\n",
       "        <td>42.86</td>\n",
       "        <td>500</td>\n",
       "    </tr>\n",
       "    <tr>\n",
       "        <td>India</td>\n",
       "        <td>2973193</td>\n",
       "        <td>1251695584</td>\n",
       "        <td>97.4</td>\n",
       "        <td>420</td>\n",
       "    </tr>\n",
       "    <tr>\n",
       "        <td>Burundi</td>\n",
       "        <td>25680</td>\n",
       "        <td>10742276</td>\n",
       "        <td>38.1</td>\n",
       "        <td>418</td>\n",
       "    </tr>\n",
       "    <tr>\n",
       "        <td>Israel</td>\n",
       "        <td>20330</td>\n",
       "        <td>8049314</td>\n",
       "        <td>35.5</td>\n",
       "        <td>395</td>\n",
       "    </tr>\n",
       "    <tr>\n",
       "        <td>Belgium</td>\n",
       "        <td>30278</td>\n",
       "        <td>11323973</td>\n",
       "        <td>41.13</td>\n",
       "        <td>374</td>\n",
       "    </tr>\n",
       "    <tr>\n",
       "        <td>Haiti</td>\n",
       "        <td>27560</td>\n",
       "        <td>10110019</td>\n",
       "        <td>38.96</td>\n",
       "        <td>366</td>\n",
       "    </tr>\n",
       "</table>"
      ],
      "text/plain": [
       "[('Bangladesh', 130170, 168957745, 59.74, 1297),\n",
       " ('Taiwan', 32260, 23415126, 41.99, 725),\n",
       " ('Rwanda', 24668, 12661733, 37.23, 513),\n",
       " ('Korea, South', 96920, 49115196, 55.41, 506),\n",
       " ('Netherlands', 33893, 16947904, 42.86, 500),\n",
       " ('India', 2973193, 1251695584, 97.4, 420),\n",
       " ('Burundi', 25680, 10742276, 38.1, 418),\n",
       " ('Israel', 20330, 8049314, 35.5, 395),\n",
       " ('Belgium', 30278, 11323973, 41.13, 374),\n",
       " ('Haiti', 27560, 10110019, 38.96, 366)]"
      ]
     },
     "execution_count": 19,
     "metadata": {},
     "output_type": "execute_result"
    }
   ],
   "source": [
    "%%sql \n",
    "WITH T1 AS (SELECT name\n",
    "                        FROM facts\n",
    "                        WHERE population =0\n",
    "                        OR population IS null\n",
    "                        OR area_land= 0\n",
    "                        OR area_land IS null\n",
    "                        OR name LIKE '%Union%'\n",
    "                        OR name LIKE '%ocean%'),\n",
    "T2 AS(SELECT  name,\n",
    "        area_land,\n",
    "        population,\n",
    "        ROUND(percent_rank() over(ORDER BY area_land ASC)*100,2) as land_percentile,\n",
    "        CAST(CAST(population AS FLOAT)/ CAST(area_land AS FLOAT)AS INT) AS population_density\n",
    "FROM facts\n",
    "WHERE name NOT IN t1)\n",
    "\n",
    "SELECT *\n",
    "FROM T2\n",
    "WHERE land_percentile > 30\n",
    "ORDER BY 5 DESC\n",
    "LIMIT 10;"
   ]
  },
  {
   "cell_type": "markdown",
   "id": "e6b07650",
   "metadata": {},
   "source": [
    "The above results indicates that the first definition has ruled out countries such as, Taiwan, Rwanda, Netherlands and many more. The new approach provides a better grasp of the definition of a nation in terms of land area."
   ]
  },
  {
   "cell_type": "markdown",
   "id": "68f7aed8",
   "metadata": {},
   "source": [
    "Bangladesh holds the highest population density at 30% land area percentile  of<br> 1297 person/km$^{2}$. Taiwan holds the second place, followed by Rwanda, Korea, South and Netherlands."
   ]
  },
  {
   "cell_type": "markdown",
   "id": "1b9074b3",
   "metadata": {},
   "source": [
    "<a id=\"9\"></a>\n",
    "<h1 style=\"font-size: 135%\">B) Countries with the Lowest Population Density</h1>"
   ]
  },
  {
   "cell_type": "code",
   "execution_count": 20,
   "id": "80b9dd08",
   "metadata": {},
   "outputs": [
    {
     "name": "stdout",
     "output_type": "stream",
     "text": [
      " * sqlite:///factbook.db\n",
      "Done.\n"
     ]
    },
    {
     "data": {
      "text/html": [
       "<table>\n",
       "    <tr>\n",
       "        <th>name</th>\n",
       "        <th>area_land</th>\n",
       "        <th>population</th>\n",
       "        <th>land_percentile</th>\n",
       "        <th>population_density</th>\n",
       "    </tr>\n",
       "    <tr>\n",
       "        <td>Greenland</td>\n",
       "        <td>2166086</td>\n",
       "        <td>57733</td>\n",
       "        <td>95.24</td>\n",
       "        <td>0.027</td>\n",
       "    </tr>\n",
       "    <tr>\n",
       "        <td>Svalbard</td>\n",
       "        <td>62045</td>\n",
       "        <td>1872</td>\n",
       "        <td>47.62</td>\n",
       "        <td>0.03</td>\n",
       "    </tr>\n",
       "    <tr>\n",
       "        <td>Falkland Islands (Islas Malvinas)</td>\n",
       "        <td>12173</td>\n",
       "        <td>3361</td>\n",
       "        <td>31.6</td>\n",
       "        <td>0.276</td>\n",
       "    </tr>\n",
       "    <tr>\n",
       "        <td>Mongolia</td>\n",
       "        <td>1553556</td>\n",
       "        <td>2992908</td>\n",
       "        <td>93.07</td>\n",
       "        <td>1.926</td>\n",
       "    </tr>\n",
       "    <tr>\n",
       "        <td>Western Sahara</td>\n",
       "        <td>266000</td>\n",
       "        <td>570866</td>\n",
       "        <td>68.4</td>\n",
       "        <td>2.146</td>\n",
       "    </tr>\n",
       "    <tr>\n",
       "        <td>Namibia</td>\n",
       "        <td>823290</td>\n",
       "        <td>2212307</td>\n",
       "        <td>86.58</td>\n",
       "        <td>2.687</td>\n",
       "    </tr>\n",
       "    <tr>\n",
       "        <td>Australia</td>\n",
       "        <td>7682300</td>\n",
       "        <td>22751014</td>\n",
       "        <td>97.84</td>\n",
       "        <td>2.961</td>\n",
       "    </tr>\n",
       "    <tr>\n",
       "        <td>Iceland</td>\n",
       "        <td>100250</td>\n",
       "        <td>331918</td>\n",
       "        <td>55.84</td>\n",
       "        <td>3.311</td>\n",
       "    </tr>\n",
       "    <tr>\n",
       "        <td>Mauritania</td>\n",
       "        <td>1030700</td>\n",
       "        <td>3596702</td>\n",
       "        <td>88.74</td>\n",
       "        <td>3.49</td>\n",
       "    </tr>\n",
       "    <tr>\n",
       "        <td>Libya</td>\n",
       "        <td>1759540</td>\n",
       "        <td>6411776</td>\n",
       "        <td>93.51</td>\n",
       "        <td>3.644</td>\n",
       "    </tr>\n",
       "</table>"
      ],
      "text/plain": [
       "[('Greenland', 2166086, 57733, 95.24, 0.027),\n",
       " ('Svalbard', 62045, 1872, 47.62, 0.03),\n",
       " ('Falkland Islands (Islas Malvinas)', 12173, 3361, 31.6, 0.276),\n",
       " ('Mongolia', 1553556, 2992908, 93.07, 1.926),\n",
       " ('Western Sahara', 266000, 570866, 68.4, 2.146),\n",
       " ('Namibia', 823290, 2212307, 86.58, 2.687),\n",
       " ('Australia', 7682300, 22751014, 97.84, 2.961),\n",
       " ('Iceland', 100250, 331918, 55.84, 3.311),\n",
       " ('Mauritania', 1030700, 3596702, 88.74, 3.49),\n",
       " ('Libya', 1759540, 6411776, 93.51, 3.644)]"
      ]
     },
     "execution_count": 20,
     "metadata": {},
     "output_type": "execute_result"
    }
   ],
   "source": [
    "%%sql \n",
    "WITH T1 AS (SELECT name\n",
    "                        FROM facts\n",
    "                        WHERE population =0\n",
    "                        OR population IS null\n",
    "                        OR area_land= 0\n",
    "                        OR area_land IS null\n",
    "                        OR name LIKE '%Union%'\n",
    "                        OR name LIKE '%ocean%'),\n",
    "T2 AS(SELECT  name,\n",
    "        area_land,\n",
    "        population,\n",
    "        ROUND(percent_rank() over(ORDER BY area_land ASC)*100,2) as land_percentile,\n",
    "        ROUND(CAST(population AS FLOAT)/ CAST(area_land AS FLOAT),3) AS population_density\n",
    "FROM facts\n",
    "WHERE name NOT IN t1)\n",
    "\n",
    "SELECT *\n",
    "FROM T2\n",
    "WHERE land_percentile > 30\n",
    "ORDER BY 5\n",
    "LIMIT 10;"
   ]
  },
  {
   "cell_type": "markdown",
   "id": "a38a8e61",
   "metadata": {},
   "source": [
    "Note that the cutoff could not filter out dependencies, such as Svalbard and Falkland Islands. To achieve that, the new cutoff would have to eliminate entities with extremely low populations. For demonstration purposes, the percentile cutoff for population will be set at 10%."
   ]
  },
  {
   "cell_type": "code",
   "execution_count": 21,
   "id": "accf25fc",
   "metadata": {},
   "outputs": [
    {
     "name": "stdout",
     "output_type": "stream",
     "text": [
      " * sqlite:///factbook.db\n",
      "Done.\n"
     ]
    },
    {
     "data": {
      "text/html": [
       "<table>\n",
       "    <tr>\n",
       "        <th>name</th>\n",
       "        <th>area</th>\n",
       "        <th>population</th>\n",
       "        <th>land_percentile</th>\n",
       "        <th>pop_percentile</th>\n",
       "    </tr>\n",
       "    <tr>\n",
       "        <td>Pitcairn Islands</td>\n",
       "        <td>47</td>\n",
       "        <td>48</td>\n",
       "        <td>3.9</td>\n",
       "        <td>0.0</td>\n",
       "    </tr>\n",
       "    <tr>\n",
       "        <td>Cocos (Keeling) Islands</td>\n",
       "        <td>14</td>\n",
       "        <td>596</td>\n",
       "        <td>1.3</td>\n",
       "        <td>0.43</td>\n",
       "    </tr>\n",
       "    <tr>\n",
       "        <td>Niue</td>\n",
       "        <td>260</td>\n",
       "        <td>1190</td>\n",
       "        <td>11.69</td>\n",
       "        <td>0.87</td>\n",
       "    </tr>\n",
       "    <tr>\n",
       "        <td>Tokelau</td>\n",
       "        <td>12</td>\n",
       "        <td>1337</td>\n",
       "        <td>0.87</td>\n",
       "        <td>1.3</td>\n",
       "    </tr>\n",
       "    <tr>\n",
       "        <td>Christmas Island</td>\n",
       "        <td>135</td>\n",
       "        <td>1530</td>\n",
       "        <td>7.79</td>\n",
       "        <td>1.73</td>\n",
       "    </tr>\n",
       "    <tr>\n",
       "        <td>Svalbard</td>\n",
       "        <td>62045</td>\n",
       "        <td>1872</td>\n",
       "        <td>47.62</td>\n",
       "        <td>2.16</td>\n",
       "    </tr>\n",
       "    <tr>\n",
       "        <td>Norfolk Island</td>\n",
       "        <td>36</td>\n",
       "        <td>2210</td>\n",
       "        <td>3.46</td>\n",
       "        <td>2.6</td>\n",
       "    </tr>\n",
       "    <tr>\n",
       "        <td>Falkland Islands (Islas Malvinas)</td>\n",
       "        <td>12173</td>\n",
       "        <td>3361</td>\n",
       "        <td>31.6</td>\n",
       "        <td>3.03</td>\n",
       "    </tr>\n",
       "    <tr>\n",
       "        <td>Montserrat</td>\n",
       "        <td>102</td>\n",
       "        <td>5241</td>\n",
       "        <td>6.49</td>\n",
       "        <td>3.46</td>\n",
       "    </tr>\n",
       "    <tr>\n",
       "        <td>Saint Pierre and Miquelon</td>\n",
       "        <td>242</td>\n",
       "        <td>5657</td>\n",
       "        <td>11.26</td>\n",
       "        <td>3.9</td>\n",
       "    </tr>\n",
       "</table>"
      ],
      "text/plain": [
       "[('Pitcairn Islands', 47, 48, 3.9, 0.0),\n",
       " ('Cocos (Keeling) Islands', 14, 596, 1.3, 0.43),\n",
       " ('Niue', 260, 1190, 11.69, 0.87),\n",
       " ('Tokelau', 12, 1337, 0.87, 1.3),\n",
       " ('Christmas Island', 135, 1530, 7.79, 1.73),\n",
       " ('Svalbard', 62045, 1872, 47.62, 2.16),\n",
       " ('Norfolk Island', 36, 2210, 3.46, 2.6),\n",
       " ('Falkland Islands (Islas Malvinas)', 12173, 3361, 31.6, 3.03),\n",
       " ('Montserrat', 102, 5241, 6.49, 3.46),\n",
       " ('Saint Pierre and Miquelon', 242, 5657, 11.26, 3.9)]"
      ]
     },
     "execution_count": 21,
     "metadata": {},
     "output_type": "execute_result"
    }
   ],
   "source": [
    "%%sql \n",
    "SELECT name,\n",
    "       area,\n",
    "       population,\n",
    "       ROUND(percent_rank() over(ORDER BY area_land ASC)*100,2) as land_percentile,\n",
    "       ROUND(percent_rank() over(ORDER BY population ASC)*100,2) as pop_percentile\n",
    "FROM facts\n",
    "WHERE name NOT IN (SELECT name\n",
    "                        FROM facts\n",
    "                        WHERE population =0\n",
    "                        OR population IS null\n",
    "                        OR area_land= 0\n",
    "                        OR area_land IS null\n",
    "                        OR name LIKE '%Union%'\n",
    "                        OR name LIKE '%ocean%')\n",
    "ORDER BY 3,4\n",
    "LIMIT 10;"
   ]
  },
  {
   "cell_type": "code",
   "execution_count": 22,
   "id": "e0f5569b",
   "metadata": {},
   "outputs": [
    {
     "name": "stdout",
     "output_type": "stream",
     "text": [
      " * sqlite:///factbook.db\n",
      "Done.\n"
     ]
    },
    {
     "data": {
      "text/html": [
       "<table>\n",
       "    <tr>\n",
       "        <th>name</th>\n",
       "        <th>area_land</th>\n",
       "        <th>population</th>\n",
       "        <th>land_percentile</th>\n",
       "        <th>pop_percentile</th>\n",
       "        <th>population_density</th>\n",
       "    </tr>\n",
       "    <tr>\n",
       "        <td>Greenland</td>\n",
       "        <td>2166086</td>\n",
       "        <td>57733</td>\n",
       "        <td>95.24</td>\n",
       "        <td>12.99</td>\n",
       "        <td>0.027</td>\n",
       "    </tr>\n",
       "    <tr>\n",
       "        <td>Mongolia</td>\n",
       "        <td>1553556</td>\n",
       "        <td>2992908</td>\n",
       "        <td>93.07</td>\n",
       "        <td>42.42</td>\n",
       "        <td>1.926</td>\n",
       "    </tr>\n",
       "    <tr>\n",
       "        <td>Western Sahara</td>\n",
       "        <td>266000</td>\n",
       "        <td>570866</td>\n",
       "        <td>68.4</td>\n",
       "        <td>27.71</td>\n",
       "        <td>2.146</td>\n",
       "    </tr>\n",
       "    <tr>\n",
       "        <td>Namibia</td>\n",
       "        <td>823290</td>\n",
       "        <td>2212307</td>\n",
       "        <td>86.58</td>\n",
       "        <td>40.26</td>\n",
       "        <td>2.687</td>\n",
       "    </tr>\n",
       "    <tr>\n",
       "        <td>Australia</td>\n",
       "        <td>7682300</td>\n",
       "        <td>22751014</td>\n",
       "        <td>97.84</td>\n",
       "        <td>77.49</td>\n",
       "        <td>2.961</td>\n",
       "    </tr>\n",
       "    <tr>\n",
       "        <td>Iceland</td>\n",
       "        <td>100250</td>\n",
       "        <td>331918</td>\n",
       "        <td>55.84</td>\n",
       "        <td>24.68</td>\n",
       "        <td>3.311</td>\n",
       "    </tr>\n",
       "    <tr>\n",
       "        <td>Mauritania</td>\n",
       "        <td>1030700</td>\n",
       "        <td>3596702</td>\n",
       "        <td>88.74</td>\n",
       "        <td>45.02</td>\n",
       "        <td>3.49</td>\n",
       "    </tr>\n",
       "    <tr>\n",
       "        <td>Libya</td>\n",
       "        <td>1759540</td>\n",
       "        <td>6411776</td>\n",
       "        <td>93.51</td>\n",
       "        <td>55.41</td>\n",
       "        <td>3.644</td>\n",
       "    </tr>\n",
       "    <tr>\n",
       "        <td>Suriname</td>\n",
       "        <td>156000</td>\n",
       "        <td>579633</td>\n",
       "        <td>61.9</td>\n",
       "        <td>28.14</td>\n",
       "        <td>3.716</td>\n",
       "    </tr>\n",
       "    <tr>\n",
       "        <td>Guyana</td>\n",
       "        <td>196849</td>\n",
       "        <td>735222</td>\n",
       "        <td>64.5</td>\n",
       "        <td>29.87</td>\n",
       "        <td>3.735</td>\n",
       "    </tr>\n",
       "</table>"
      ],
      "text/plain": [
       "[('Greenland', 2166086, 57733, 95.24, 12.99, 0.027),\n",
       " ('Mongolia', 1553556, 2992908, 93.07, 42.42, 1.926),\n",
       " ('Western Sahara', 266000, 570866, 68.4, 27.71, 2.146),\n",
       " ('Namibia', 823290, 2212307, 86.58, 40.26, 2.687),\n",
       " ('Australia', 7682300, 22751014, 97.84, 77.49, 2.961),\n",
       " ('Iceland', 100250, 331918, 55.84, 24.68, 3.311),\n",
       " ('Mauritania', 1030700, 3596702, 88.74, 45.02, 3.49),\n",
       " ('Libya', 1759540, 6411776, 93.51, 55.41, 3.644),\n",
       " ('Suriname', 156000, 579633, 61.9, 28.14, 3.716),\n",
       " ('Guyana', 196849, 735222, 64.5, 29.87, 3.735)]"
      ]
     },
     "execution_count": 22,
     "metadata": {},
     "output_type": "execute_result"
    }
   ],
   "source": [
    "%%sql \n",
    "WITH T1 AS (SELECT name\n",
    "                        FROM facts\n",
    "                        WHERE population =0\n",
    "                        OR population IS null\n",
    "                        OR area_land= 0\n",
    "                        OR area_land IS null\n",
    "                        OR name LIKE '%Union%'\n",
    "                        OR name LIKE '%ocean%'),\n",
    "T2 AS(SELECT  name,\n",
    "        area_land,\n",
    "        population,\n",
    "        ROUND(percent_rank() over(ORDER BY area_land ASC)*100,2) as land_percentile,\n",
    "        ROUND(percent_rank() over(ORDER BY population ASC)*100,2) as pop_percentile,\n",
    "        ROUND(CAST(population AS FLOAT)/ CAST(area_land AS FLOAT),3) AS population_density\n",
    "FROM facts\n",
    "WHERE name NOT IN t1)\n",
    "\n",
    "SELECT *\n",
    "FROM T2\n",
    "WHERE land_percentile > 30\n",
    "AND pop_percentile > 10\n",
    "ORDER BY 6\n",
    "LIMIT 10;"
   ]
  },
  {
   "cell_type": "markdown",
   "id": "5b566d8e",
   "metadata": {},
   "source": [
    "The updated cutoff was able to eliminate most unwanted dependencies, while keeping countries such as Greenland. Greenland holds the highest population density at 30% land area percentile of 0.027 person/km$^2$ , followed by Mongolia."
   ]
  },
  {
   "cell_type": "markdown",
   "id": "347bb39c",
   "metadata": {},
   "source": [
    "The method of using percentile as cutoff still has its limitations, since there is no id to quickly sort out dependencies. For example Western Sahara, a \"non-self-governing territory\" considered by the United Nation[$^{[7]}$](https://en.wikipedia.org/wiki/Western_Sahara), is hard to eliminate given its large land size and total population. However, the cutoff at least could give a really good sense of population density from a national perspective."
   ]
  },
  {
   "cell_type": "markdown",
   "id": "33032e17",
   "metadata": {},
   "source": [
    "<a id=\"10\"></a>\n",
    "<h1 style=\"font-size:160%\"> Mortality and Fertility</h1> \n",
    "\n",
    "***"
   ]
  },
  {
   "cell_type": "markdown",
   "id": "63018900",
   "metadata": {},
   "source": [
    "There are two factors that affect the world population: birth rate and death rate. "
   ]
  },
  {
   "cell_type": "code",
   "execution_count": 23,
   "id": "5a71c17b",
   "metadata": {},
   "outputs": [
    {
     "name": "stdout",
     "output_type": "stream",
     "text": [
      " * sqlite:///factbook.db\n",
      "Done.\n"
     ]
    },
    {
     "data": {
      "text/html": [
       "<table>\n",
       "    <tr>\n",
       "        <th>birth_rate</th>\n",
       "        <th>death_rate</th>\n",
       "        <th>birth_to_death_ratio</th>\n",
       "    </tr>\n",
       "    <tr>\n",
       "        <td>18.6</td>\n",
       "        <td>7.8</td>\n",
       "        <td>2.38</td>\n",
       "    </tr>\n",
       "</table>"
      ],
      "text/plain": [
       "[(18.6, 7.8, 2.38)]"
      ]
     },
     "execution_count": 23,
     "metadata": {},
     "output_type": "execute_result"
    }
   ],
   "source": [
    "%%sql \n",
    "SELECT birth_rate, death_rate,\n",
    "       ROUND((birth_rate / death_rate), 2) AS birth_to_death_ratio\n",
    "FROM facts\n",
    "WHERE name = 'World';"
   ]
  },
  {
   "cell_type": "markdown",
   "id": "d6008583",
   "metadata": {},
   "source": [
    "Our data reveals that the birth rate is 18.6 per 1000 persons. Death rate is 7.8 per 1000 persons. And there are 2.38 births for every death. "
   ]
  },
  {
   "cell_type": "markdown",
   "id": "7646eab3",
   "metadata": {},
   "source": [
    "<a id=\"11\"></a>\n",
    "<h1 style=\"font-size: 135%\">A) Countries with the Highest Birth Rates</h1>"
   ]
  },
  {
   "cell_type": "code",
   "execution_count": 24,
   "id": "e4c7aac5",
   "metadata": {
    "scrolled": true
   },
   "outputs": [
    {
     "name": "stdout",
     "output_type": "stream",
     "text": [
      " * sqlite:///factbook.db\n",
      "Done.\n"
     ]
    },
    {
     "data": {
      "text/html": [
       "<table>\n",
       "    <tr>\n",
       "        <th>name</th>\n",
       "        <th>birth_rate</th>\n",
       "    </tr>\n",
       "    <tr>\n",
       "        <td>Niger</td>\n",
       "        <td>45.45</td>\n",
       "    </tr>\n",
       "    <tr>\n",
       "        <td>Mali</td>\n",
       "        <td>44.99</td>\n",
       "    </tr>\n",
       "    <tr>\n",
       "        <td>Uganda</td>\n",
       "        <td>43.79</td>\n",
       "    </tr>\n",
       "    <tr>\n",
       "        <td>Zambia</td>\n",
       "        <td>42.13</td>\n",
       "    </tr>\n",
       "    <tr>\n",
       "        <td>Burkina Faso</td>\n",
       "        <td>42.03</td>\n",
       "    </tr>\n",
       "    <tr>\n",
       "        <td>Burundi</td>\n",
       "        <td>42.01</td>\n",
       "    </tr>\n",
       "    <tr>\n",
       "        <td>Malawi</td>\n",
       "        <td>41.56</td>\n",
       "    </tr>\n",
       "    <tr>\n",
       "        <td>Somalia</td>\n",
       "        <td>40.45</td>\n",
       "    </tr>\n",
       "    <tr>\n",
       "        <td>Angola</td>\n",
       "        <td>38.78</td>\n",
       "    </tr>\n",
       "    <tr>\n",
       "        <td>Mozambique</td>\n",
       "        <td>38.58</td>\n",
       "    </tr>\n",
       "</table>"
      ],
      "text/plain": [
       "[('Niger', 45.45),\n",
       " ('Mali', 44.99),\n",
       " ('Uganda', 43.79),\n",
       " ('Zambia', 42.13),\n",
       " ('Burkina Faso', 42.03),\n",
       " ('Burundi', 42.01),\n",
       " ('Malawi', 41.56),\n",
       " ('Somalia', 40.45),\n",
       " ('Angola', 38.78),\n",
       " ('Mozambique', 38.58)]"
      ]
     },
     "execution_count": 24,
     "metadata": {},
     "output_type": "execute_result"
    }
   ],
   "source": [
    "%%sql \n",
    "SELECT name, \n",
    "       birth_rate\n",
    "FROM facts\n",
    "WHERE name != 'World'\n",
    "ORDER BY 2 DESC\n",
    "LIMIT 10;"
   ]
  },
  {
   "cell_type": "markdown",
   "id": "d557b98d",
   "metadata": {},
   "source": [
    "Niger has the highest birth rate in the world at 45.5 annual births per 1000 people per year, followed by Mali and Uganda. A lot of these countries are from Africa. The key reasons why the fertility rate is so high is due to factors such as, high desired family size, low levels of use of modern contraceptives, and high levels of adolescent childbearing.[$^{[8]}$](https://theconversation.com/whats-driving-africas-population-growth-and-what-can-change-it-126362#:~:text=These%20questions%20can%20best%20be,high%20levels%20of%20adolescent%20childbearing.)"
   ]
  },
  {
   "cell_type": "markdown",
   "id": "1b03b7ec",
   "metadata": {},
   "source": [
    "<a id=\"12\"></a>\n",
    "<h1 style=\"font-size: 135%\">B) Countries with the Lowest Birth Rates</h1>"
   ]
  },
  {
   "cell_type": "code",
   "execution_count": 25,
   "id": "427a24d0",
   "metadata": {},
   "outputs": [
    {
     "name": "stdout",
     "output_type": "stream",
     "text": [
      " * sqlite:///factbook.db\n",
      "Done.\n"
     ]
    },
    {
     "data": {
      "text/html": [
       "<table>\n",
       "    <tr>\n",
       "        <th>name</th>\n",
       "        <th>birth_rate</th>\n",
       "    </tr>\n",
       "    <tr>\n",
       "        <td>Monaco</td>\n",
       "        <td>6.65</td>\n",
       "    </tr>\n",
       "    <tr>\n",
       "        <td>Saint Pierre and Miquelon</td>\n",
       "        <td>7.42</td>\n",
       "    </tr>\n",
       "    <tr>\n",
       "        <td>Japan</td>\n",
       "        <td>7.93</td>\n",
       "    </tr>\n",
       "    <tr>\n",
       "        <td>Andorra</td>\n",
       "        <td>8.13</td>\n",
       "    </tr>\n",
       "    <tr>\n",
       "        <td>Korea, South</td>\n",
       "        <td>8.19</td>\n",
       "    </tr>\n",
       "    <tr>\n",
       "        <td>Singapore</td>\n",
       "        <td>8.27</td>\n",
       "    </tr>\n",
       "    <tr>\n",
       "        <td>Slovenia</td>\n",
       "        <td>8.42</td>\n",
       "    </tr>\n",
       "    <tr>\n",
       "        <td>Germany</td>\n",
       "        <td>8.47</td>\n",
       "    </tr>\n",
       "    <tr>\n",
       "        <td>Taiwan</td>\n",
       "        <td>8.47</td>\n",
       "    </tr>\n",
       "    <tr>\n",
       "        <td>San Marino</td>\n",
       "        <td>8.63</td>\n",
       "    </tr>\n",
       "</table>"
      ],
      "text/plain": [
       "[('Monaco', 6.65),\n",
       " ('Saint Pierre and Miquelon', 7.42),\n",
       " ('Japan', 7.93),\n",
       " ('Andorra', 8.13),\n",
       " ('Korea, South', 8.19),\n",
       " ('Singapore', 8.27),\n",
       " ('Slovenia', 8.42),\n",
       " ('Germany', 8.47),\n",
       " ('Taiwan', 8.47),\n",
       " ('San Marino', 8.63)]"
      ]
     },
     "execution_count": 25,
     "metadata": {},
     "output_type": "execute_result"
    }
   ],
   "source": [
    "%%sql \n",
    "SELECT name, \n",
    "       birth_rate\n",
    "FROM facts\n",
    "WHERE name != 'World'\n",
    "AND birth_rate IS NOT NULL\n",
    "ORDER BY 2\n",
    "LIMIT 10;"
   ]
  },
  {
   "cell_type": "markdown",
   "id": "5aa8f1cd",
   "metadata": {},
   "source": [
    "Monaco has the lowest birth rate in the world at 6.65 annual births per 1000 people per year, followed by Saint Pierre and Miquelon\t and Japan. Out of the 10 countries, 4 countries are from Asia. It is widely considered that low fertility rate results from countries with higher GDP. Modern society where women are now better-educated and more career-oriented.[$^{[9]}$](https://www.eastasiaforum.org/2013/04/23/very-low-fertility-an-east-asian-dilemma/) In addition, higher GDP countries in Asia, usually have higher cost of living, making it discouraging for families to have children.[$^{[10]}$](https://www.numbeo.com/cost-of-living/region_rankings_current.jsp?region=035)"
   ]
  },
  {
   "cell_type": "markdown",
   "id": "c16f86ec",
   "metadata": {},
   "source": [
    "<a id=\"13\"></a>\n",
    "<h1 style=\"font-size: 135%\">C) Countries with the Highest Death Rates</h1>"
   ]
  },
  {
   "cell_type": "code",
   "execution_count": 26,
   "id": "2435ab9b",
   "metadata": {},
   "outputs": [
    {
     "name": "stdout",
     "output_type": "stream",
     "text": [
      " * sqlite:///factbook.db\n",
      "Done.\n"
     ]
    },
    {
     "data": {
      "text/html": [
       "<table>\n",
       "    <tr>\n",
       "        <th>name</th>\n",
       "        <th>death_rate</th>\n",
       "    </tr>\n",
       "    <tr>\n",
       "        <td>Lesotho</td>\n",
       "        <td>14.89</td>\n",
       "    </tr>\n",
       "    <tr>\n",
       "        <td>Ukraine</td>\n",
       "        <td>14.46</td>\n",
       "    </tr>\n",
       "    <tr>\n",
       "        <td>Bulgaria</td>\n",
       "        <td>14.44</td>\n",
       "    </tr>\n",
       "    <tr>\n",
       "        <td>Guinea-Bissau</td>\n",
       "        <td>14.33</td>\n",
       "    </tr>\n",
       "    <tr>\n",
       "        <td>Latvia</td>\n",
       "        <td>14.31</td>\n",
       "    </tr>\n",
       "    <tr>\n",
       "        <td>Chad</td>\n",
       "        <td>14.28</td>\n",
       "    </tr>\n",
       "    <tr>\n",
       "        <td>Lithuania</td>\n",
       "        <td>14.27</td>\n",
       "    </tr>\n",
       "    <tr>\n",
       "        <td>Namibia</td>\n",
       "        <td>13.91</td>\n",
       "    </tr>\n",
       "    <tr>\n",
       "        <td>Afghanistan</td>\n",
       "        <td>13.89</td>\n",
       "    </tr>\n",
       "    <tr>\n",
       "        <td>Central African Republic</td>\n",
       "        <td>13.8</td>\n",
       "    </tr>\n",
       "</table>"
      ],
      "text/plain": [
       "[('Lesotho', 14.89),\n",
       " ('Ukraine', 14.46),\n",
       " ('Bulgaria', 14.44),\n",
       " ('Guinea-Bissau', 14.33),\n",
       " ('Latvia', 14.31),\n",
       " ('Chad', 14.28),\n",
       " ('Lithuania', 14.27),\n",
       " ('Namibia', 13.91),\n",
       " ('Afghanistan', 13.89),\n",
       " ('Central African Republic', 13.8)]"
      ]
     },
     "execution_count": 26,
     "metadata": {},
     "output_type": "execute_result"
    }
   ],
   "source": [
    "%%sql \n",
    "SELECT name, \n",
    "       death_rate\n",
    "FROM facts\n",
    "WHERE name != 'World'\n",
    "ORDER BY 2 DESC\n",
    "LIMIT 10;"
   ]
  },
  {
   "cell_type": "markdown",
   "id": "4ad805ad",
   "metadata": {},
   "source": [
    "Lesotho\thas the highest death rate in the world at 14.89 annual births per 1000 people per year, followed by Ukraine and Bulgaria."
   ]
  },
  {
   "attachments": {
    "image.png": {
     "image/png": "[encoded data removed]"
    }
   },
   "cell_type": "markdown",
   "id": "72cf6f74",
   "metadata": {},
   "source": [
    "![image.png](attachment:image.png)\n",
    "<br>\n",
    "Death Rate from 2015-2020 [$^{[11]}$](https://worldpopulationreview.com/country-rankings/death-rate-by-country)"
   ]
  },
  {
   "attachments": {
    "image.png": {
     "image/png": "[encoded data removed]"
    }
   },
   "cell_type": "markdown",
   "id": "a0df9cbd",
   "metadata": {},
   "source": [
    "![image.png](attachment:image.png)\n",
    "<br>\n",
    "Top 10 Countries with the highest Death Rates from 2015-2020[$^{[12]}$](https://worldpopulationreview.com/country-rankings/death-rate-by-country)"
   ]
  },
  {
   "cell_type": "markdown",
   "id": "8b090992",
   "metadata": {},
   "source": [
    "Over the years, the ranking may have changed but the report could still provide insight as to why the death rates are so high for certain countries, according to worldpopulationreview.com:[$^{[13]}$](https://worldpopulationreview.com/country-rankings/death-rate-by-country)"
   ]
  },
  {
   "cell_type": "markdown",
   "id": "b70bf160",
   "metadata": {},
   "source": [
    "> - \"According to the CDC, the life expectancy at birth in Lesotho is 56 years for females and 52 years for males. The infant mortality rate is 59 per 1,000 live births. The leading causes of death are HIV/AIDS, tuberculosis, stroke, lower respiratory infections, and ischemic heart disease.\"\n",
    "\n",
    "> - \"Overall, Ukraine's health care system is poorly financed, and the country has very low vaccination rates and high rates of diseases and disorders that could be better managed with increased funding. One factor contributing to the mortality rate is the high death rate of working-age males from preventable causes such as alcohol poisoning and smoking.\"\n",
    "\n",
    "> - \"According to the World Health Organization, the causes of death in Bulgaria are similar to those in other European countries, including non-communicable diseases (diseases of the circulatory, digestive, or respiratory systems) and cancers.\""
   ]
  },
  {
   "cell_type": "markdown",
   "id": "b84c14d0",
   "metadata": {},
   "source": [
    "<a id=\"14\"></a>\n",
    "<h1 style=\"font-size: 135%\">D) Countries with the Lowest Death Rates</h1>"
   ]
  },
  {
   "cell_type": "code",
   "execution_count": 27,
   "id": "12737e62",
   "metadata": {},
   "outputs": [
    {
     "name": "stdout",
     "output_type": "stream",
     "text": [
      " * sqlite:///factbook.db\n",
      "Done.\n"
     ]
    },
    {
     "data": {
      "text/html": [
       "<table>\n",
       "    <tr>\n",
       "        <th>name</th>\n",
       "        <th>death_rate</th>\n",
       "    </tr>\n",
       "    <tr>\n",
       "        <td>Qatar</td>\n",
       "        <td>1.53</td>\n",
       "    </tr>\n",
       "    <tr>\n",
       "        <td>United Arab Emirates</td>\n",
       "        <td>1.97</td>\n",
       "    </tr>\n",
       "    <tr>\n",
       "        <td>Kuwait</td>\n",
       "        <td>2.18</td>\n",
       "    </tr>\n",
       "    <tr>\n",
       "        <td>Bahrain</td>\n",
       "        <td>2.69</td>\n",
       "    </tr>\n",
       "    <tr>\n",
       "        <td>Gaza Strip</td>\n",
       "        <td>3.04</td>\n",
       "    </tr>\n",
       "    <tr>\n",
       "        <td>Turks and Caicos Islands</td>\n",
       "        <td>3.1</td>\n",
       "    </tr>\n",
       "    <tr>\n",
       "        <td>Saudi Arabia</td>\n",
       "        <td>3.33</td>\n",
       "    </tr>\n",
       "    <tr>\n",
       "        <td>Oman</td>\n",
       "        <td>3.36</td>\n",
       "    </tr>\n",
       "    <tr>\n",
       "        <td>Singapore</td>\n",
       "        <td>3.43</td>\n",
       "    </tr>\n",
       "    <tr>\n",
       "        <td>West Bank</td>\n",
       "        <td>3.5</td>\n",
       "    </tr>\n",
       "</table>"
      ],
      "text/plain": [
       "[('Qatar', 1.53),\n",
       " ('United Arab Emirates', 1.97),\n",
       " ('Kuwait', 2.18),\n",
       " ('Bahrain', 2.69),\n",
       " ('Gaza Strip', 3.04),\n",
       " ('Turks and Caicos Islands', 3.1),\n",
       " ('Saudi Arabia', 3.33),\n",
       " ('Oman', 3.36),\n",
       " ('Singapore', 3.43),\n",
       " ('West Bank', 3.5)]"
      ]
     },
     "execution_count": 27,
     "metadata": {},
     "output_type": "execute_result"
    }
   ],
   "source": [
    "%%sql \n",
    "SELECT name, \n",
    "       death_rate\n",
    "FROM facts\n",
    "WHERE name != 'World'\n",
    "AND death_rate IS NOT NULL\n",
    "ORDER BY 2\n",
    "LIMIT 10;"
   ]
  },
  {
   "cell_type": "markdown",
   "id": "0102b5da",
   "metadata": {},
   "source": [
    "Qatar has the lowest death rate in the world at 1.53 annual births per 1000 people per year, followed by United Arab Emirates and Kuwait. According to the worldpopulationreview.com:"
   ]
  },
  {
   "cell_type": "markdown",
   "id": "73a5defe",
   "metadata": {},
   "source": [
    "> - \"Countries with low mortality rates have more advanced and accessible health care, better-informed citizens, healthier nutritional options, and higher living standards overall. Qatar has the lowest mortality rate. This low mortality rate can be attributed to Qatar's improved health care system, renowned for its technologically advanced facilities and ability to deliver some of the world's best patient care.[$^{[14]}$](https://worldpopulationreview.com/country-rankings/death-rate-by-country)\""
   ]
  },
  {
   "cell_type": "markdown",
   "id": "41f8b603",
   "metadata": {},
   "source": [
    "<a id=\"15\"></a>\n",
    "<h1 style=\"font-size:160%\"> Population Decline by Country</h1>\n",
    "\n",
    "***"
   ]
  },
  {
   "cell_type": "markdown",
   "id": "642075f8",
   "metadata": {},
   "source": [
    "The following factors contribute to declining populations:\n",
    "- Litte to negative population growth\n",
    "    - A death ratio under 1\n",
    "    - A migration rate under 1"
   ]
  },
  {
   "cell_type": "code",
   "execution_count": 28,
   "id": "c2e47892",
   "metadata": {},
   "outputs": [
    {
     "name": "stdout",
     "output_type": "stream",
     "text": [
      " * sqlite:///factbook.db\n",
      "Done.\n"
     ]
    },
    {
     "data": {
      "text/html": [
       "<table>\n",
       "    <tr>\n",
       "        <th>name</th>\n",
       "        <th>population_growth</th>\n",
       "        <th>birth_death_ratio</th>\n",
       "        <th>migration_rate</th>\n",
       "    </tr>\n",
       "    <tr>\n",
       "        <td>Poland</td>\n",
       "        <td>0.09</td>\n",
       "        <td>0.96</td>\n",
       "        <td>0.46</td>\n",
       "    </tr>\n",
       "    <tr>\n",
       "        <td>Bosnia and Herzegovina</td>\n",
       "        <td>0.13</td>\n",
       "        <td>0.91</td>\n",
       "        <td>0.38</td>\n",
       "    </tr>\n",
       "    <tr>\n",
       "        <td>Japan</td>\n",
       "        <td>0.16</td>\n",
       "        <td>0.83</td>\n",
       "        <td>0.0</td>\n",
       "    </tr>\n",
       "    <tr>\n",
       "        <td>Belarus</td>\n",
       "        <td>0.2</td>\n",
       "        <td>0.8</td>\n",
       "        <td>0.7</td>\n",
       "    </tr>\n",
       "    <tr>\n",
       "        <td>Slovenia</td>\n",
       "        <td>0.26</td>\n",
       "        <td>0.74</td>\n",
       "        <td>0.37</td>\n",
       "    </tr>\n",
       "    <tr>\n",
       "        <td>Romania</td>\n",
       "        <td>0.3</td>\n",
       "        <td>0.77</td>\n",
       "        <td>0.24</td>\n",
       "    </tr>\n",
       "    <tr>\n",
       "        <td>Serbia</td>\n",
       "        <td>0.46</td>\n",
       "        <td>0.66</td>\n",
       "        <td>0.0</td>\n",
       "    </tr>\n",
       "    <tr>\n",
       "        <td>Bulgaria</td>\n",
       "        <td>0.58</td>\n",
       "        <td>0.62</td>\n",
       "        <td>0.29</td>\n",
       "    </tr>\n",
       "</table>"
      ],
      "text/plain": [
       "[('Poland', 0.09, 0.96, 0.46),\n",
       " ('Bosnia and Herzegovina', 0.13, 0.91, 0.38),\n",
       " ('Japan', 0.16, 0.83, 0.0),\n",
       " ('Belarus', 0.2, 0.8, 0.7),\n",
       " ('Slovenia', 0.26, 0.74, 0.37),\n",
       " ('Romania', 0.3, 0.77, 0.24),\n",
       " ('Serbia', 0.46, 0.66, 0.0),\n",
       " ('Bulgaria', 0.58, 0.62, 0.29)]"
      ]
     },
     "execution_count": 28,
     "metadata": {},
     "output_type": "execute_result"
    }
   ],
   "source": [
    "%%sql \n",
    "WITH T1 AS (SELECT name\n",
    "                        FROM facts\n",
    "                        WHERE population =0\n",
    "                        OR population IS null\n",
    "                        OR area_land= 0\n",
    "                        OR area_land IS null),\n",
    "T2 AS(SELECT  name,\n",
    "        area_land,\n",
    "        population,\n",
    "        ROUND((birth_rate / death_rate), 2) AS birth_death_ratio,\n",
    "        population_growth,\n",
    "        migration_rate,\n",
    "        ROUND(percent_rank() over(ORDER BY area_land ASC)*100,2) as land_percentile,\n",
    "        ROUND(percent_rank() over(ORDER BY population ASC)*100,2) as pop_percentile,\n",
    "        ROUND(CAST(population AS FLOAT)/ CAST(area_land AS FLOAT),3) AS population_density\n",
    "FROM facts\n",
    "WHERE name NOT IN t1),\n",
    "\n",
    "T3 AS(SELECT *\n",
    "FROM T2\n",
    "WHERE land_percentile > 31\n",
    "AND pop_percentile > 10)\n",
    "\n",
    "SELECT name,\n",
    "       population_growth,\n",
    "       birth_death_ratio,\n",
    "       migration_rate\n",
    "FROM T3\n",
    "WHERE birth_death_ratio < 1\n",
    "AND migration_rate < 1\n",
    "ORDER BY 2,3,4;\n"
   ]
  },
  {
   "cell_type": "markdown",
   "id": "63a81f6c",
   "metadata": {},
   "source": [
    "Most countries in the table are located in or near Eastern Europe.  The population decline has been brought about by two key geopolitical events: the collapse of the Soviet Union and the enlargement of the European Union. These events allowed greater movement of citizens amongst former Soviet states. Moreover, joining the European Union allowed freer movement of people and has encouraged many citizens to look for opportunities elsewhere.[$^{[15]}$](https://globalriskinsights.com/2019/10/population-decline-in-central-and-eastern-europe/) In addition, the fertility rate is not high enough to match the emigration rate, which is reflected in the low birth to death ratio as well as the decline of population."
   ]
  },
  {
   "cell_type": "markdown",
   "id": "d6a4a870",
   "metadata": {},
   "source": [
    "There are a few limitations using only population growth rate, birth to death ratio and migration rate to make conclusions for decline in population. The more common practice would be recording these rates over a longer period of time to avoid sudden spikes in population due to diseases or a decline of population for very specific age group. For example:"
   ]
  },
  {
   "attachments": {
    "image-2.png": {
     "image/png": "[encoded data removed]"
    }
   },
   "cell_type": "markdown",
   "id": "6576041f",
   "metadata": {},
   "source": [
    "![image-2.png](attachment:image-2.png)\n",
    "<br>\n",
    "List of countries by population growth rate [$^{[16]}$](https://www.worlddata.info/populationgrowth.php?from=2012&to=2021)"
   ]
  },
  {
   "cell_type": "markdown",
   "id": "86d9d5df",
   "metadata": {},
   "source": [
    "Another key information that is missing is the age structure. In order to have a more consistent read or prediction of the birth to death ratio, age strucutre gives a good understanding of whether the country has a healthy demographic pyramid, which could translate into better insight of population growth."
   ]
  },
  {
   "cell_type": "markdown",
   "id": "667b1876",
   "metadata": {},
   "source": [
    "<a id=\"16\"></a>\n",
    "<h1 style=\"font-size:160%\">Conclusion</h1>\n",
    "\n",
    "***"
   ]
  },
  {
   "cell_type": "markdown",
   "id": "ee18e6df",
   "metadata": {},
   "source": [
    "- The top 5 countries are responsible for 47% of the global population. They are China,India,United Sates, Indonesia and Brazil. China has the most population at 3 billion 4 hundred million, 19% of the global population.\n",
    "- Areas such as Macau,Monaco,Singapore and Hong Kong are the most densely populated places in the world due to their exteremly small land area. From a national perspective, Bangladesh is the most densely populated country in the world followed by Taiwan, Rwanda and South Korea.\n",
    "- Fertility rate is the highest in Africa, and lowest in Europe and Asia. Mortality rate is the highest in African countries and European countries, and the lowest in the Gulf cooperation countries of the Middle-East. \n",
    "- Population decline is the most precipitous in or near Eastern Europe due to the collapse of the Soviet Union, the enlargement of the European Union and a low birth rate that could not match the emigration rate."
   ]
  },
  {
   "cell_type": "markdown",
   "id": "8a4a5a8c",
   "metadata": {},
   "source": [
    "<a id=\"17\"></a>\n",
    "<h1 style=\"font-size:160%\">References</h1>\n",
    "\n",
    "***"
   ]
  },
  {
   "cell_type": "markdown",
   "id": "d3c61ebe",
   "metadata": {},
   "source": [
    "    1.Central Intelligence Agency. Central Intelligence Agency. Accessed November 24, 2022. https://www.cia.gov/the-world-factbook/. \n",
    "    \n",
    "    2.“The World Factbook.” Wikipedia. Wikimedia Foundation, November 19, 2022. https://en.wikipedia.org/wiki/The_World_Factbook#:~:text=Entities%20listed,-Main%20article%3A%20List&amp;text=The%20CIA%20defines%20these%20as,category%2C%20there%20are%20195%20entities.&amp;text=Places%20set%20apart%20from%20the,Taiwan%20and%20the%20European%20Union. \n",
    "    \n",
    "    3.“Current World Population.” Worldometer. Accessed November 24,2022. https://www.worldometers.info/world-population/. \n",
    "    \n",
    "    4.“Antarctica.” National Geographic Society. Accessed November 24, 2022. https://education.nationalgeographic.org/resource/antarctica. \n",
    "    \n",
    "    5.“World Population by Year.” Worldometer. Accessed November 24,2022. https://www.worldometers.info/world-population/world-population-by-year/. \n",
    "    \n",
    "    6.“Population Density.” National Geographic Society. Accessed November 24, 2022. https://education.nationalgeographic.org/resource/population-density. \n",
    "\n",
    "    7.“Western Sahara.” Wikipedia. Wikimedia Foundation, November 17, 2022. https://en.wikipedia.org/wiki/Western_Sahara. \n",
    "    \n",
    "    8.Alex Ezeh Dornsife Endowed Professor of Global Health, and Garumma Tolu Feyissa Researcher Dornsife School of Public Health. “What's Driving Africa's Population Growth. and What Can Change It.” The Conversation, November 18, 2022. https://theconversation.com/whats-driving-africas-population-growth-and-what-can-change-it-126362#:~:text=These%20questions%20can%20best%20be,high%20levels%20of%20adolescent%20childbearing. \n",
    "    \n",
    "    9.McDonald, Peter, Zhongwei Zhao, Noriko Tsuya, Srinivas Goli, Masataka Nakagawa, Chen Bai, EAF Editors, et al. “Very Low Fertility: An East Asian Dilemma.” East Asia Forum, March 13, 2015. https://www.eastasiaforum.org/2013/04/23/very-low-fertility-an-east-asian-dilemma/. \n",
    "    \n",
    "    10.Cost of living (no date) Cost of Living. Available at: https://www.numbeo.com/cost-of-living/region_rankings_current.jsp?region=035 (Accessed: November 25, 2022). \n",
    "    \n",
    "    11.Death rate by country 2022. Available at: https://worldpopulationreview.com/country-rankings/death-rate-by-country (Accessed: November 25, 2022). \n",
    "    \n",
    "    12. Ibid.\n",
    "    \n",
    "    13. Ibid.\n",
    "    \n",
    "    14. Ibid\n",
    "    \n",
    "    15. Population decline in central and Eastern Europe (2019) Global Risk Insights. Available at: https://globalriskinsights.com/2019/10/population-decline-in-central-and-eastern-europe/ (Accessed: November 25, 2022). \n",
    "    \n",
    "    16. “Comparison: Population Growth by Country.” Worlddata.info. Accessed December 5, 2022. https://www.worlddata.info/populationgrowth.php?from=2012&amp;to=2021. "
   ]
  }
 ],
 "metadata": {
  "kernelspec": {
   "display_name": "Python 3 (ipykernel)",
   "language": "python",
   "name": "python3"
  },
  "language_info": {
   "codemirror_mode": {
    "name": "ipython",
    "version": 3
   },
   "file_extension": ".py",
   "mimetype": "text/x-python",
   "name": "python",
   "nbconvert_exporter": "python",
   "pygments_lexer": "ipython3",
   "version": "3.9.13"
  }
 },
 "nbformat": 4,
 "nbformat_minor": 5
}
